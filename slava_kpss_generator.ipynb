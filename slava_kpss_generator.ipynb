{
  "metadata": {
    "kernelspec": {
      "language": "python",
      "display_name": "Python 3",
      "name": "python3"
    },
    "language_info": {
      "name": "python",
      "version": "3.10.12",
      "mimetype": "text/x-python",
      "codemirror_mode": {
        "name": "ipython",
        "version": 3
      },
      "pygments_lexer": "ipython3",
      "nbconvert_exporter": "python",
      "file_extension": ".py"
    },
    "kaggle": {
      "accelerator": "nvidiaTeslaT4",
      "dataSources": [
        {
          "sourceId": 10253354,
          "sourceType": "datasetVersion",
          "datasetId": 6342330
        },
        {
          "sourceId": 10256312,
          "sourceType": "datasetVersion",
          "datasetId": 6344567
        }
      ],
      "dockerImageVersionId": 30636,
      "isInternetEnabled": true,
      "language": "python",
      "sourceType": "notebook",
      "isGpuEnabled": true
    },
    "colab": {
      "provenance": []
    }
  },
  "nbformat_minor": 0,
  "nbformat": 4,
  "cells": [
    {
      "cell_type": "markdown",
      "source": [
        "**Я спарсил текста песен исполнителя Славы Кпсс с сайта genius и обучил нейросеть генерировать текста в его стиле**"
      ],
      "metadata": {
        "id": "wJp4fPeSty5i"
      }
    },
    {
      "cell_type": "markdown",
      "source": [
        "**В начале здесь парсер и предобработка, потом идёт часть с нейронкой, ее я обучал отдельно на кэгле, т.к в колабе не хватало gpu**"
      ],
      "metadata": {
        "id": "rgYOjypvufhU"
      }
    },
    {
      "cell_type": "code",
      "execution_count": null,
      "metadata": {
        "id": "8a6bc7fa-9be1-45e2-8490-220e6c39c074"
      },
      "outputs": [],
      "source": [
        "from selenium import webdriver\n",
        "from selenium.webdriver.common.by import By\n",
        "from selenium.webdriver.support.ui import WebDriverWait\n",
        "from selenium.webdriver.support import expected_conditions as EC\n",
        "from selenium.webdriver.chrome.service import Service\n",
        "from webdriver_manager.chrome import ChromeDriverManager\n",
        "import pandas as pd\n",
        "import time\n",
        "\n",
        "service = Service(ChromeDriverManager().install())\n",
        "driver = webdriver.Chrome(service=service)\n",
        "\n",
        "data = []\n",
        "\n",
        "try:\n",
        "    artist_url = \"https://genius.com/artists/Slava-kpss/songs\"\n",
        "    driver.get(artist_url)\n",
        "\n",
        "    last_height = driver.execute_script(\"return document.body.scrollHeight\")\n",
        "    while True:\n",
        "        driver.execute_script(\"window.scrollTo(0, document.body.scrollHeight);\")\n",
        "        time.sleep(3)\n",
        "        new_height = driver.execute_script(\"return document.body.scrollHeight\")\n",
        "        if new_height == last_height:\n",
        "            break\n",
        "        last_height = new_height\n",
        "\n",
        "    song_links = []\n",
        "    songs = driver.find_elements(By.CSS_SELECTOR, \"a.ListItem-sc-4f1bc3d5-1.kqeBAm\")\n",
        "    for song in songs:\n",
        "        link = song.get_attribute(\"href\")\n",
        "        song_links.append(link)\n",
        "    print(f\"Найдено {len(song_links)} песен\")\n",
        "\n",
        "    for index, link in enumerate(song_links):\n",
        "        try:\n",
        "            driver.get(link)\n",
        "            time.sleep(3)\n",
        "            title = WebDriverWait(driver, 10).until(\n",
        "                EC.presence_of_element_located((By.CSS_SELECTOR, 'span[class^=\"SongHeader-desktop\"]'))\n",
        "            ).text\n",
        "\n",
        "            try:\n",
        "                lyrics_element = WebDriverWait(driver, 10).until(\n",
        "                    EC.presence_of_element_located((By.CSS_SELECTOR, 'div[data-lyrics-container=\"true\"]'))\n",
        "                )\n",
        "                lyrics = lyrics_element.text\n",
        "            except:\n",
        "                lyrics = \"Текст не найден\"\n",
        "            data.append({\"title\": title, \"lyrics\": lyrics, \"link\": link})\n",
        "            print(f\"Песня '{title}' добавлена.\")\n",
        "\n",
        "        except Exception as e:\n",
        "            print(f\"Ошибка при обработке песни {index+1}: {e}\")\n",
        "\n",
        "finally:\n",
        "    driver.quit()\n",
        "\n",
        "df = pd.DataFrame(data)\n",
        "df.to_csv(\"slava_kpss_lyrics.csv\", index=False)\n"
      ]
    },
    {
      "cell_type": "markdown",
      "source": [],
      "metadata": {
        "id": "q62rsrcpueA-"
      }
    },
    {
      "cell_type": "code",
      "source": [
        " import pandas as pd"
      ],
      "metadata": {
        "id": "ru1KBc0ZIkCG"
      },
      "execution_count": null,
      "outputs": []
    },
    {
      "cell_type": "code",
      "execution_count": null,
      "metadata": {
        "id": "3ded3b08-d8ab-44e3-a2aa-031d6ce26191"
      },
      "outputs": [],
      "source": [
        "df = pd.read_csv('slava_kpss_lyrics.csv')"
      ]
    },
    {
      "cell_type": "code",
      "source": [
        "df.shape"
      ],
      "metadata": {
        "colab": {
          "base_uri": "https://localhost:8080/"
        },
        "id": "b35dm1gcIbIC",
        "outputId": "854ca470-0798-4f45-ca5f-04d86be33ac4"
      },
      "execution_count": null,
      "outputs": [
        {
          "output_type": "execute_result",
          "data": {
            "text/plain": [
              "(1263, 3)"
            ]
          },
          "metadata": {},
          "execution_count": 4
        }
      ]
    },
    {
      "cell_type": "code",
      "source": [
        "df.head(2)"
      ],
      "metadata": {
        "colab": {
          "base_uri": "https://localhost:8080/",
          "height": 112
        },
        "id": "z5Sbm3YDOGy1",
        "outputId": "f852af71-625c-4862-ad36-839dbb215cb5"
      },
      "execution_count": null,
      "outputs": [
        {
          "output_type": "execute_result",
          "data": {
            "text/plain": [
              "                                         title  \\\n",
              "0          13/08/17: Oxxxymiron vs. Слава КПСС   \n",
              "1  07/07/16: Edik_Kingsta vs. Соня Мармеладова   \n",
              "\n",
              "                                              lyrics  \\\n",
              "0  [Раунд 1: Oxxxymiron]\\nЯ здесь чисто по фану, ...   \n",
              "1  [Раунд 1 (часть 1): Соня Мармеладова]\\nВ тебе ...   \n",
              "\n",
              "                                                link  \n",
              "0  https://genius.com/Versus-battle-13-08-17-oxxx...  \n",
              "1  https://genius.com/140-bpm-battle-07-07-16-edi...  "
            ],
            "text/html": [
              "\n",
              "  <div id=\"df-8d6dac5e-d96c-4a75-a230-97d129074d17\" class=\"colab-df-container\">\n",
              "    <div>\n",
              "<style scoped>\n",
              "    .dataframe tbody tr th:only-of-type {\n",
              "        vertical-align: middle;\n",
              "    }\n",
              "\n",
              "    .dataframe tbody tr th {\n",
              "        vertical-align: top;\n",
              "    }\n",
              "\n",
              "    .dataframe thead th {\n",
              "        text-align: right;\n",
              "    }\n",
              "</style>\n",
              "<table border=\"1\" class=\"dataframe\">\n",
              "  <thead>\n",
              "    <tr style=\"text-align: right;\">\n",
              "      <th></th>\n",
              "      <th>title</th>\n",
              "      <th>lyrics</th>\n",
              "      <th>link</th>\n",
              "    </tr>\n",
              "  </thead>\n",
              "  <tbody>\n",
              "    <tr>\n",
              "      <th>0</th>\n",
              "      <td>13/08/17: Oxxxymiron vs. Слава КПСС</td>\n",
              "      <td>[Раунд 1: Oxxxymiron]\\nЯ здесь чисто по фану, ...</td>\n",
              "      <td>https://genius.com/Versus-battle-13-08-17-oxxx...</td>\n",
              "    </tr>\n",
              "    <tr>\n",
              "      <th>1</th>\n",
              "      <td>07/07/16: Edik_Kingsta vs. Соня Мармеладова</td>\n",
              "      <td>[Раунд 1 (часть 1): Соня Мармеладова]\\nВ тебе ...</td>\n",
              "      <td>https://genius.com/140-bpm-battle-07-07-16-edi...</td>\n",
              "    </tr>\n",
              "  </tbody>\n",
              "</table>\n",
              "</div>\n",
              "    <div class=\"colab-df-buttons\">\n",
              "\n",
              "  <div class=\"colab-df-container\">\n",
              "    <button class=\"colab-df-convert\" onclick=\"convertToInteractive('df-8d6dac5e-d96c-4a75-a230-97d129074d17')\"\n",
              "            title=\"Convert this dataframe to an interactive table.\"\n",
              "            style=\"display:none;\">\n",
              "\n",
              "  <svg xmlns=\"http://www.w3.org/2000/svg\" height=\"24px\" viewBox=\"0 -960 960 960\">\n",
              "    <path d=\"M120-120v-720h720v720H120Zm60-500h600v-160H180v160Zm220 220h160v-160H400v160Zm0 220h160v-160H400v160ZM180-400h160v-160H180v160Zm440 0h160v-160H620v160ZM180-180h160v-160H180v160Zm440 0h160v-160H620v160Z\"/>\n",
              "  </svg>\n",
              "    </button>\n",
              "\n",
              "  <style>\n",
              "    .colab-df-container {\n",
              "      display:flex;\n",
              "      gap: 12px;\n",
              "    }\n",
              "\n",
              "    .colab-df-convert {\n",
              "      background-color: #E8F0FE;\n",
              "      border: none;\n",
              "      border-radius: 50%;\n",
              "      cursor: pointer;\n",
              "      display: none;\n",
              "      fill: #1967D2;\n",
              "      height: 32px;\n",
              "      padding: 0 0 0 0;\n",
              "      width: 32px;\n",
              "    }\n",
              "\n",
              "    .colab-df-convert:hover {\n",
              "      background-color: #E2EBFA;\n",
              "      box-shadow: 0px 1px 2px rgba(60, 64, 67, 0.3), 0px 1px 3px 1px rgba(60, 64, 67, 0.15);\n",
              "      fill: #174EA6;\n",
              "    }\n",
              "\n",
              "    .colab-df-buttons div {\n",
              "      margin-bottom: 4px;\n",
              "    }\n",
              "\n",
              "    [theme=dark] .colab-df-convert {\n",
              "      background-color: #3B4455;\n",
              "      fill: #D2E3FC;\n",
              "    }\n",
              "\n",
              "    [theme=dark] .colab-df-convert:hover {\n",
              "      background-color: #434B5C;\n",
              "      box-shadow: 0px 1px 3px 1px rgba(0, 0, 0, 0.15);\n",
              "      filter: drop-shadow(0px 1px 2px rgba(0, 0, 0, 0.3));\n",
              "      fill: #FFFFFF;\n",
              "    }\n",
              "  </style>\n",
              "\n",
              "    <script>\n",
              "      const buttonEl =\n",
              "        document.querySelector('#df-8d6dac5e-d96c-4a75-a230-97d129074d17 button.colab-df-convert');\n",
              "      buttonEl.style.display =\n",
              "        google.colab.kernel.accessAllowed ? 'block' : 'none';\n",
              "\n",
              "      async function convertToInteractive(key) {\n",
              "        const element = document.querySelector('#df-8d6dac5e-d96c-4a75-a230-97d129074d17');\n",
              "        const dataTable =\n",
              "          await google.colab.kernel.invokeFunction('convertToInteractive',\n",
              "                                                    [key], {});\n",
              "        if (!dataTable) return;\n",
              "\n",
              "        const docLinkHtml = 'Like what you see? Visit the ' +\n",
              "          '<a target=\"_blank\" href=https://colab.research.google.com/notebooks/data_table.ipynb>data table notebook</a>'\n",
              "          + ' to learn more about interactive tables.';\n",
              "        element.innerHTML = '';\n",
              "        dataTable['output_type'] = 'display_data';\n",
              "        await google.colab.output.renderOutput(dataTable, element);\n",
              "        const docLink = document.createElement('div');\n",
              "        docLink.innerHTML = docLinkHtml;\n",
              "        element.appendChild(docLink);\n",
              "      }\n",
              "    </script>\n",
              "  </div>\n",
              "\n",
              "\n",
              "<div id=\"df-3cd97731-b561-48e1-9d98-d0fc0dfcb01a\">\n",
              "  <button class=\"colab-df-quickchart\" onclick=\"quickchart('df-3cd97731-b561-48e1-9d98-d0fc0dfcb01a')\"\n",
              "            title=\"Suggest charts\"\n",
              "            style=\"display:none;\">\n",
              "\n",
              "<svg xmlns=\"http://www.w3.org/2000/svg\" height=\"24px\"viewBox=\"0 0 24 24\"\n",
              "     width=\"24px\">\n",
              "    <g>\n",
              "        <path d=\"M19 3H5c-1.1 0-2 .9-2 2v14c0 1.1.9 2 2 2h14c1.1 0 2-.9 2-2V5c0-1.1-.9-2-2-2zM9 17H7v-7h2v7zm4 0h-2V7h2v10zm4 0h-2v-4h2v4z\"/>\n",
              "    </g>\n",
              "</svg>\n",
              "  </button>\n",
              "\n",
              "<style>\n",
              "  .colab-df-quickchart {\n",
              "      --bg-color: #E8F0FE;\n",
              "      --fill-color: #1967D2;\n",
              "      --hover-bg-color: #E2EBFA;\n",
              "      --hover-fill-color: #174EA6;\n",
              "      --disabled-fill-color: #AAA;\n",
              "      --disabled-bg-color: #DDD;\n",
              "  }\n",
              "\n",
              "  [theme=dark] .colab-df-quickchart {\n",
              "      --bg-color: #3B4455;\n",
              "      --fill-color: #D2E3FC;\n",
              "      --hover-bg-color: #434B5C;\n",
              "      --hover-fill-color: #FFFFFF;\n",
              "      --disabled-bg-color: #3B4455;\n",
              "      --disabled-fill-color: #666;\n",
              "  }\n",
              "\n",
              "  .colab-df-quickchart {\n",
              "    background-color: var(--bg-color);\n",
              "    border: none;\n",
              "    border-radius: 50%;\n",
              "    cursor: pointer;\n",
              "    display: none;\n",
              "    fill: var(--fill-color);\n",
              "    height: 32px;\n",
              "    padding: 0;\n",
              "    width: 32px;\n",
              "  }\n",
              "\n",
              "  .colab-df-quickchart:hover {\n",
              "    background-color: var(--hover-bg-color);\n",
              "    box-shadow: 0 1px 2px rgba(60, 64, 67, 0.3), 0 1px 3px 1px rgba(60, 64, 67, 0.15);\n",
              "    fill: var(--button-hover-fill-color);\n",
              "  }\n",
              "\n",
              "  .colab-df-quickchart-complete:disabled,\n",
              "  .colab-df-quickchart-complete:disabled:hover {\n",
              "    background-color: var(--disabled-bg-color);\n",
              "    fill: var(--disabled-fill-color);\n",
              "    box-shadow: none;\n",
              "  }\n",
              "\n",
              "  .colab-df-spinner {\n",
              "    border: 2px solid var(--fill-color);\n",
              "    border-color: transparent;\n",
              "    border-bottom-color: var(--fill-color);\n",
              "    animation:\n",
              "      spin 1s steps(1) infinite;\n",
              "  }\n",
              "\n",
              "  @keyframes spin {\n",
              "    0% {\n",
              "      border-color: transparent;\n",
              "      border-bottom-color: var(--fill-color);\n",
              "      border-left-color: var(--fill-color);\n",
              "    }\n",
              "    20% {\n",
              "      border-color: transparent;\n",
              "      border-left-color: var(--fill-color);\n",
              "      border-top-color: var(--fill-color);\n",
              "    }\n",
              "    30% {\n",
              "      border-color: transparent;\n",
              "      border-left-color: var(--fill-color);\n",
              "      border-top-color: var(--fill-color);\n",
              "      border-right-color: var(--fill-color);\n",
              "    }\n",
              "    40% {\n",
              "      border-color: transparent;\n",
              "      border-right-color: var(--fill-color);\n",
              "      border-top-color: var(--fill-color);\n",
              "    }\n",
              "    60% {\n",
              "      border-color: transparent;\n",
              "      border-right-color: var(--fill-color);\n",
              "    }\n",
              "    80% {\n",
              "      border-color: transparent;\n",
              "      border-right-color: var(--fill-color);\n",
              "      border-bottom-color: var(--fill-color);\n",
              "    }\n",
              "    90% {\n",
              "      border-color: transparent;\n",
              "      border-bottom-color: var(--fill-color);\n",
              "    }\n",
              "  }\n",
              "</style>\n",
              "\n",
              "  <script>\n",
              "    async function quickchart(key) {\n",
              "      const quickchartButtonEl =\n",
              "        document.querySelector('#' + key + ' button');\n",
              "      quickchartButtonEl.disabled = true;  // To prevent multiple clicks.\n",
              "      quickchartButtonEl.classList.add('colab-df-spinner');\n",
              "      try {\n",
              "        const charts = await google.colab.kernel.invokeFunction(\n",
              "            'suggestCharts', [key], {});\n",
              "      } catch (error) {\n",
              "        console.error('Error during call to suggestCharts:', error);\n",
              "      }\n",
              "      quickchartButtonEl.classList.remove('colab-df-spinner');\n",
              "      quickchartButtonEl.classList.add('colab-df-quickchart-complete');\n",
              "    }\n",
              "    (() => {\n",
              "      let quickchartButtonEl =\n",
              "        document.querySelector('#df-3cd97731-b561-48e1-9d98-d0fc0dfcb01a button');\n",
              "      quickchartButtonEl.style.display =\n",
              "        google.colab.kernel.accessAllowed ? 'block' : 'none';\n",
              "    })();\n",
              "  </script>\n",
              "</div>\n",
              "    </div>\n",
              "  </div>\n"
            ],
            "application/vnd.google.colaboratory.intrinsic+json": {
              "type": "dataframe",
              "variable_name": "df",
              "summary": "{\n  \"name\": \"df\",\n  \"rows\": 1263,\n  \"fields\": [\n    {\n      \"column\": \"title\",\n      \"properties\": {\n        \"dtype\": \"string\",\n        \"num_unique_values\": 1256,\n        \"samples\": [\n          \"\\u0421\\u043e\\u043b\\u043d\\u0435\\u0447\\u043d\\u043e (Sunny)\",\n          \"\\u0421\\u043b\\u043e\\u0432\\u043e \\u041c\\u044d\\u0440\\u0430 2 (Mayor\\u2019s Word 2)\",\n          \"\\u0411\\u043e\\u043b\\u044c\\u0448\\u0435 \\u043d\\u0435 (No More)\"\n        ],\n        \"semantic_type\": \"\",\n        \"description\": \"\"\n      }\n    },\n    {\n      \"column\": \"lyrics\",\n      \"properties\": {\n        \"dtype\": \"string\",\n        \"num_unique_values\": 1221,\n        \"samples\": [\n          \"[\\u0422\\u0435\\u043a\\u0441\\u0442 \\u043f\\u0435\\u0441\\u043d\\u0438 \\u00ab\\u0414\\u0430\\u0439\\u0442\\u0435 \\u043c\\u043d\\u0435\\u00bb]\\n\\n[\\u041a\\u0443\\u043f\\u043b\\u0435\\u0442 1: Fallen MC]\\n\\u0415\\u0436\\u0435-\\u0435\\u0436\\u0435-\\u0435\\u0436\\u0435 \\u0443\\u0432\\u043e\\u0434\\u0438 \\u0432\\u0441\\u0435\\u0445, \\u0441\\u0442\\u0430\\u0432\\u044c \\u0431\\u0443\\u0439\\n\\u041d\\u0435 \\u0433\\u0430\\u0437\\u0443\\u0439 \\u0442\\u0443\\u0442, \\u0434\\u0443\\u0440\\u0435\\u043d\\u044c, \\u0442\\u0443\\u0442 \\u043a\\u0443\\u0440\\u044f\\u0442\\n\\u042d\\u0442\\u043e \\u043f\\u0440\\u0438\\u043a\\u043e\\u043b\\u044c\\u043d\\u044b\\u0435 \\u0440\\u0435\\u0431\\u044f\\u0442\\u0430 \\u0441 \\u043c\\u0430\\u043d\\u0438\\u0435\\u0439 \\u0440\\u044d\\u043f\\u0430\\n\\u041b\\u0435\\u0442\\u0438 \\u0437\\u0435\\u043b\\u0451\\u043d\\u0430\\u044f \\u043a\\u043e\\u043c\\u0435\\u0442\\u0430 \\u0432\\u0434\\u043e\\u043b\\u044c \\u043f\\u0440\\u043e\\u0441\\u043f\\u0435\\u043a\\u0442\\u0430\\n\\u0410 \\u0415\\u0436\\u0435-\\u0435\\u0436\\u0435 \\u043f\\u043e \\u043f\\u0440\\u0438\\u043a\\u043e\\u043b\\u0443 \\u0441\\u043f\\u0435\\u043b\\u0438 EPI\\n\\u041d\\u0435 \\u043d\\u0430 \\u0440\\u0435\\u043f\\u0438\\u0442, \\u043d\\u043e \\u0432\\u0440\\u043e\\u0434\\u0435 \\u0434\\u0430\\u0436\\u0435 \\u0431\\u043e\\u0434\\u0440\\u0438\\u0442 \\u043d\\u0435\\u043c\\u043d\\u043e\\u0433\\u043e\\n\\u0413\\u0434\\u0435 \\u043c\\u043e\\u0439 \\u0443\\u0440\\u043e\\u0434\\u043b\\u0438\\u0432\\u044b\\u0439 \\u043c\\u0430\\u0444\\u043e\\u043d, \\u044e\\u0440\\u043e\\u0434\\u0438\\u0435\\u0432\\u044b\\u0439 \\u0433\\u0430\\u043f\\u043e\\u043d\\n\\u041d\\u0430 \\u041f\\u0435\\u0442\\u0440\\u043e\\u0433\\u0440\\u0430\\u0434\\u0441\\u043a\\u0443\\u044e \\u0437\\u0430 \\u043f\\u043e\\u0440\\u043e\\u0445\\u043e\\u043c \\u043e\\u0434\\u043d\\u0430 \\u0434\\u043e\\u0440\\u043e\\u0433\\u0430\\n\\u0422\\u044f\\u043d\\u0435\\u0442 \\u0442\\u043e \\u0434\\u0430\\u0432\\u043d\\u043e, \\u0434\\u0430\\u0439\\u0442\\u0435 \\u043c\\u043d\\u0435 \\u0435\\u0431\\u0443\\u0447\\u0438\\u0439 \\u043c\\u0438\\u043a\\u0440\\u043e\\u0444\\u043e\\u043d\\n\\u0417\\u043d\\u0430\\u044e \\u043e\\u0434\\u043d\\u043e\\u0433\\u043e, \\u043e\\u043d \\u0442\\u043e\\u0440\\u0433\\u0443\\u0435\\u0442 \\u043b\\u0438\\u0437\\u0435\\u0440\\u043e\\u043c\\n\\u0410 \\u0432\\u044b \\u043e\\u0442\\u043a\\u0443\\u0434\\u0430 \\u043f\\u0438\\u0434\\u043e\\u0440\\u0430\\u0441\\u044b \\u0442\\u0430\\u043a\\u0438\\u0435 \\u0432\\u044b\\u043b\\u0435\\u0437\\u043b\\u0438\\n\\u041c\\u0435\\u0434\\u0432\\u0435\\u0434\\u0438 \\u0413\\u0430\\u043c\\u043c\\u0438 \\u0432 \\u0444\\u043e\\u0440\\u043c\\u0435 \\u0433\\u0440\\u0438\\u0437\\u043b\\u0438 \\u2014 \\u0440\\u044d\\u043f \\u0430\\u0440\\u0442\\u0438\\u0441\\u0442\\u044b\\n\\u0410 \\u0433\\u0434\\u0435 \\u043c\\u0435\\u0447\\u0442\\u044b \\u043e \\u043d\\u0435\\u0431\\u0435, \\u0432\\u0441\\u0451 \\u043f\\u0440\\u043e\\u0435\\u0431\\u043b\\u043e\\u0441\\u044c \\u0432 \\u043f\\u043e\\u0436\\u0430\\u0440\\u0435\\n\\u041d\\u0435 \\u0442\\u0435\\u0445 \\u0441\\u0430\\u0436\\u0430\\u043b\\u0438, \\u043d\\u0430 \\u0441\\u0432\\u043e\\u0431\\u043e\\u0434\\u0435 \\u0432\\u0430\\u0448\\u0438 \\u0441\\u0430\\u0436\\u0435\\u043d\\u0446\\u044b\\n\\u041c\\u044b \\u0441\\u0442\\u0430\\u0438 \\u0431\\u043b\\u0438\\u0437\\u043a\\u0438\\u0445 \\u0443\\u0432\\u0430\\u0436\\u0430\\u043b\\u0438, \\u0440\\u0443\\u043a\\u0438 \\u0436\\u0430\\u043b\\u0438 \\u0438\\u043c\\n\\u0414\\u0430\\u0431\\u044b \\u0443\\u0436\\u0430\\u043b\\u0435\\u043d\\u043d\\u044b\\u0435, \\u0443\\u0442\\u0440\\u043e, \\u0433\\u0430\\u0440\\u0438\\u043a \\u0438 \\u0441\\u043b\\u0430\\u043d\\u0446\\u044b\\n\\u0410 \\u043c\\u043e\\u0440\\u0435 \\u0440\\u044f\\u0434\\u043e\\u043c, \\u043f\\u043e\\u0441\\u043c\\u043e\\u0442\\u0440\\u0438, \\u043a\\u0430\\u043a\\u043e\\u0439 \\u0432\\u043e\\u0441\\u0445\\u043e\\u0434\\n\\u041c\\u044b \\u043f\\u043e \\u043f\\u0440\\u0438\\u0440\\u043e\\u0434\\u0435 \\u0434\\u0438\\u043a\\u0430\\u0440\\u0438, \\u0432 \\u0442\\u0430\\u043f\\u043a\\u0430\\u0445 \\u043c\\u043e\\u0434\\u043d\\u044b\\u0445\\n\\u0418 \\u0432\\u0430\\u0440\\u0438\\u0430\\u043d\\u0442 \\u0433\\u043e\\u0434\\u043d\\u044b\\u0439, \\u0431\\u0438\\u0437\\u043d\\u0435\\u0441 \\u0434\\u043e\\u0445\\u043e\\u0434\\u043d\\u044b\\u0439, \\u043d\\u043e \\u0414\\u043e\\u043d-\\u041a\\u0438\\u0445\\u043e\\u0442\\n\\u0423 \\u0432\\u0441\\u0435\\u0445 \\u043c\\u0438\\u043b\\u0435\\u0435 \\u0432\\u043e\\u0434\\u043d\\u0438\\u043a \\u0432 \\u043a\\u043e\\u043c\\u043d\\u0430\\u0442\\u0435\\n\\n[\\u041f\\u0440\\u0438\\u043f\\u0435\\u0432: \\u041e\\u0431\\u0430 & \\u0421\\u043b\\u0430\\u0432\\u0430 \\u041a\\u041f\\u0421\\u0421 & Fallen MC]\\n\\u0412 \\u044d\\u0442\\u043e\\u0439 \\u0445\\u0430\\u0442\\u0435 \\u043a\\u0443\\u0440\\u044f\\u0442 \\u0433\\u0430\\u0440\\u0438\\u043a\\n\\u041f\\u043e\\u043b\\u0443\\u0447\\u0430\\u0439 \\u0437\\u0430\\u043a\\u043e\\u043d\\u043d\\u044b\\u0439 \\u043f\\u0430\\u0440\\u0438\\u043a\\n\\u0422\\u044b \\u043d\\u0430\\u043f\\u0430\\u043b\\u0435\\u043d, \\u0440\\u044d\\u043f \\u0445\\u0443\\u044f\\u0440\\u0438\\u0442\\n\\u0415\\u0436\\u0435\\u043c\\u0435\\u0441\\u044f\\u0447\\u043d\\u044b\\u0435 \\u0437\\u043d\\u0430\\u044e\\u0442 \\u043a\\u0430\\u043a \\u0434\\u0435\\u043b\\u0430\\u0442\\u044c \\u0440\\u044d\\u043f!\\n\\u0412 \\u044d\\u0442\\u043e\\u0439 \\u0445\\u0430\\u0442\\u0435 \\u043a\\u0443\\u0440\\u044f\\u0442 \\u0433\\u0430\\u0440\\u0438\\u043a\\n\\u041f\\u043e\\u043b\\u0443\\u0447\\u0430\\u0439 \\u0437\\u0430\\u043a\\u043e\\u043d\\u043d\\u044b\\u0439 \\u043f\\u0430\\u0440\\u0438\\u043a\\n\\u0422\\u044b \\u043d\\u0430\\u043f\\u0430\\u043b\\u0435\\u043d, \\u0440\\u044d\\u043f \\u0445\\u0443\\u044f\\u0440\\u0438\\u0442\\n\\u0415\\u0436\\u0435\\u043c\\u0435\\u0441\\u044f\\u0447\\u043d\\u044b\\u0435 \\u0441\\u043d\\u043e\\u0432\\u0430 \\u0436\\u043c\\u0443\\u0442 \\u043d\\u0430 rec\",\n          \"[\\u0422\\u0435\\u043a\\u0441\\u0442 \\u043f\\u0435\\u0441\\u043d\\u0438 \\u00ab\\u041b\\u043e\\u0431\\u043e\\u0442\\u043e\\u043c\\u0438\\u044f\\u00bb\\n]\\n\\n[\\u041a\\u0443\\u043f\\u043b\\u0435\\u0442 1: \\u0421\\u043b\\u0430\\u0432\\u0430 \\u041a\\u041f\\u0421\\u0421]\\n\\u0412 \\u043e\\u0433\\u0440\\u043e\\u043c\\u043d\\u043e\\u0439 \\u0434\\u0432\\u0443\\u0441\\u043f\\u0430\\u043b\\u044c\\u043d\\u043e\\u0439 \\u043a\\u0440\\u043e\\u0432\\u0430\\u0442\\u0438 (\\u041a\\u0443\\u043f\\u043b\\u0435\\u043d\\u043e\\u0439 \\u0434\\u043b\\u044f \\u0442\\u0435\\u0431\\u044f)\\n\\u0425\\u0443\\u0451\\u0432\\u043e \\u0431\\u0435\\u0437 \\u0436\\u0435\\u043d\\u0441\\u043a\\u0438\\u0445 \\u043e\\u0431\\u044a\\u044f\\u0442\\u0438\\u0439 (\\u041e\\u0431\\u043d\\u044f\\u0442\\u044c \\u0431\\u044b \\u0442\\u0435\\u0431\\u044f \\u0441\\u0435\\u0439\\u0447\\u0430\\u0441)\\n\\u041a\\u043e\\u0442\\u0430 \\u043f\\u0440\\u0438\\u0436\\u0438\\u043c\\u0430\\u044e\\u2005\\u0438\\u2005\\u0433\\u043b\\u0430\\u0436\\u0443\\n\\u041e\\u043d \\u0437\\u0432\\u0430\\u043b\\u0441\\u044f, \\u0431\\u043b\\u044f,\\u2005\\u0434\\u0435\\u0442\\u043a\\u043e\\u044e \\u043d\\u0430\\u0448\\u0435\\u0439 (\\u041e\\u0442\\u0435\\u0446 \\u043e\\u0434\\u0438\\u043d\\u043e\\u0447\\u043a\\u0430 \\u044f)\\n\\u0421\\u043b\\u043e\\u043d\\u044f\\u044e\\u0441\\u044c \\u0431\\u0435\\u0437\\u2005\\u0434\\u0435\\u043b\\u0430 \\u043f\\u043e \\u0445\\u0430\\u0442\\u0435 (\\u0410-\\u0430-\\u0430-\\u0430)\\n\\u041d\\u0430 \\u0432\\u0435\\u0449\\u0438 \\u0442\\u0432\\u043e\\u0438 \\u043d\\u0430\\u0442\\u044b\\u043a\\u0430\\u044e\\u0441\\u044c (\\u0418 \\u0445\\u043e\\u0447\\u0435\\u0442\\u0441\\u044f \\u0441\\u0436\\u0435\\u0447\\u044c \\u0438\\u0445)\\n\\u0418 \\u0445\\u043e\\u0447\\u0435\\u0442\\u0441\\u044f \\u043b\\u043e\\u0431\\u043e\\u0442\\u043e\\u043c\\u0438\\u044e (\\u041b\\u043e\\u0431\\u043e\\u0442\\u043e\\u043c\\u0438\\u044e!)\\n\\n[\\u041f\\u0440\\u0438\\u043f\\u0435\\u0432: \\u0421\\u043b\\u0430\\u0432\\u0430 \\u041a\\u041f\\u0421\\u0421]\\n\\u042f \\u043f\\u043b\\u0430\\u0447\\u0443 \\u0432 \\u0432\\u0430\\u043d\\u043d\\u043e\\u0439 \\u043f\\u043e\\u0434 \\u0426\\u043e\\u044f\\n(\\u0410-\\u0430-\\u0430-\\u0430)\\n\\u042f \\u0451\\u0431\\u043d\\u0443\\u043b\\u0441\\u044f \\u0441 \\u044d\\u0442\\u043e\\u0439 \\u043b\\u044e\\u0431\\u043e\\u0432\\u044c\\u044e (\\u0410-\\u0430-\\u0430-\\u0430)\\n\\u042f \\u0434\\u0443\\u043c\\u0430\\u043b \\u043f\\u043e\\u0432\\u0435\\u0441\\u0438\\u0442\\u044c\\u0441\\u044f \\u043b\\u0435\\u0442\\u043e\\u043c (\\u0410-\\u0430-\\u0430-\\u0430)\\n\\u041e\\u0434\\u0438\\u043d \\u0437\\u0430\\u0441\\u044b\\u043f\\u0430\\u044e \\u0438 \\u0442\\u0440\\u0435\\u0437\\u0432\\u044b\\u043c (\\u0410 \\u0442\\u0440\\u0435\\u0437\\u0432\\u044b\\u043c \\u0445\\u0443\\u0451\\u0432\\u043e...)\\n\\n[\\u041a\\u0443\\u043f\\u043b\\u0435\\u0442 2: \\u0421\\u043b\\u0430\\u0432\\u0430 \\u041a\\u041f\\u0421\\u0421]\\n\\u041a\\u0430\\u043a \\u0432\\u0440\\u0435\\u043c\\u044f \\u0432\\u0435\\u0440\\u043d\\u0443\\u0442\\u044c, \\u0447\\u0442\\u043e\\u0431 \\u043b\\u044e\\u0431\\u0438\\u043c\\u043e\\u0439 (\\u041d\\u0435\\u0436\\u043d\\u043e\\u0439 \\u043c\\u0430\\u043b\\u044b\\u0448\\u043a\\u043e\\u0439)\\n\\u0422\\u044b \\u0441\\u043d\\u043e\\u0432\\u0430 \\u0445\\u043e\\u0442\\u0435\\u043b\\u0430 \\u043c\\u043e\\u0435\\u0439 \\u0431\\u044b\\u0442\\u044c? (\\u041d\\u043e \\u0442\\u044b, \\u0431\\u043b\\u044f, \\u043d\\u0435 \\u0445\\u043e\\u0447\\u0435\\u0448\\u044c)\\n\\u0422\\u044b \\u0445\\u043e\\u0447\\u0435\\u0448\\u044c \\u0431\\u044b\\u0442\\u044c \\u0441\\u043c\\u0435\\u043b\\u043e\\u0439 \\u0438 \\u0441\\u0438\\u043b\\u044c\\u043d\\u043e\\u0439 (\\u041a\\u0430\\u043a \\u0440\\u0430\\u0439\\u0441\\u043a\\u0430\\u044f \\u043f\\u0442\\u0438\\u0447\\u043a\\u0430)\\n\\u0421\\u0432\\u043e\\u0431\\u043e\\u0434\\u043d\\u043e\\u0439 \\u043e\\u0442 \\u0432\\u0441\\u044f\\u043a\\u043e\\u0439 \\u043f\\u0440\\u0438\\u0432\\u044b\\u0447\\u043a\\u0438 (\\u0410 \\u044f, \\u0431\\u043b\\u044f, \\u043f\\u0440\\u0438\\u0432\\u044b\\u0447\\u043a\\u0430)\\n\\u0418 \\u0445\\u043e\\u0447\\u0435\\u0442\\u0441\\u044f \\u043b\\u043e\\u0431\\u043e\\u0442\\u043e\\u043c\\u0438\\u044e (\\u041b\\u043e\\u0431\\u043e\\u0442\\u043e\\u043c\\u0438\\u044e!)\\n\\n\\n[\\u041f\\u0440\\u0438\\u043f\\u0435\\u0432: \\u0421\\u043b\\u0430\\u0432\\u0430 \\u041a\\u041f\\u0421\\u0421]\\n\\u042f \\u043f\\u043b\\u0430\\u0447\\u0443 \\u0432 \\u0432\\u0430\\u043d\\u043d\\u043e\\u0439 \\u043f\\u043e\\u0434 \\u0426\\u043e\\u044f (\\u0410-\\u0430-\\u0430-\\u0430)\\n\\u042f \\u0451\\u0431\\u043d\\u0443\\u043b\\u0441\\u044f \\u0441 \\u044d\\u0442\\u043e\\u0439 \\u043b\\u044e\\u0431\\u043e\\u0432\\u044c\\u044e (\\u0410-\\u0430-\\u0430-\\u0430)\\n\\u042f \\u0434\\u0443\\u043c\\u0430\\u043b \\u043f\\u043e\\u0432\\u0435\\u0441\\u0438\\u0442\\u044c\\u0441\\u044f \\u043b\\u0435\\u0442\\u043e\\u043c (\\u0410-\\u0430-\\u0430-\\u0430)\\n\\u041e\\u0434\\u0438\\u043d \\u0437\\u0430\\u0441\\u044b\\u043f\\u0430\\u044e \\u0438 \\u0442\\u0440\\u0435\\u0437\\u0432\\u044b\\u043c (\\u0410 \\u0442\\u0440\\u0435\\u0437\\u0432\\u044b\\u043c \\u0445\\u0443\\u0451\\u0432\\u043e...)\",\n          \"[\\u0422\\u0435\\u043a\\u0441\\u0442 \\u043f\\u0435\\u0441\\u043d\\u0438 \\u00ab\\u041c\\u044b\\u0448\\u043a\\u0430-\\u043d\\u043e\\u0440\\u0443\\u0448\\u043a\\u0430\\u00bb]\\n\\n[\\u041f\\u0440\\u0438\\u043f\\u0435\\u0432]\\n\\u0423\\u043f\\u0430\\u0434\\u0443 \\u043a\\u0430\\u043a \\u0434\\u043e\\u043c\\u0438\\u043d\\u043e\\u0448\\u043a\\u0430, \\u043a \\u0441\\u043c\\u0435\\u0440\\u0442\\u0438 \\u0432 \\u043b\\u0443\\u043a\\u043e\\u0448\\u043a\\u043e\\n\\u041a\\u0440\\u0435\\u043f\\u043a\\u0438\\u0439 \\u0444\\u0443\\u043d\\u0434\\u0430\\u043c\\u0435\\u043d\\u0442? \\u0414\\u0430 \\u0445\\u0443\\u0439 \\u0442\\u0430\\u043c\\n\\u041d\\u0430 \\u043a\\u0443\\u0440\\u044c\\u0438\\u0445 \\u043d\\u043e\\u0436\\u043a\\u0430\\u0445 \\u044d\\u0442\\u0430 \\u0438\\u0437\\u0431\\u0443\\u0448\\u043a\\u0430\\n(\\u041d\\u0435 \\u0431\\u044b\\u043b\\u043e \\u0438 \\u043d\\u0435\\u0442)\\n\\u0425\\u0432\\u043e\\u0441\\u0442\\u0438\\u043a\\u043e\\u043c \\u0441\\u043c\\u0430\\u0445\\u043d\\u0451\\u0442 \\u043c\\u0435\\u043d\\u044f \\u043c\\u044b\\u0448\\u043a\\u0430-\\u043d\\u043e\\u0440\\u0443\\u0448\\u043a\\u0430\\n\\n\\u0423\\u043f\\u0430\\u0434\\u0443 \\u043a\\u0430\\u043a \\u0434\\u043e\\u043c\\u0438\\u043d\\u043e\\u0448\\u043a\\u0430, \\u043a \\u0441\\u043c\\u0435\\u0440\\u0442\\u0438 \\u0432 \\u043b\\u0443\\u043a\\u043e\\u0448\\u043a\\u043e\\n\\u041a\\u0440\\u0435\\u043f\\u043a\\u0438\\u0439 \\u0444\\u0443\\u043d\\u0434\\u0430\\u043c\\u0435\\u043d\\u0442? \\u0414\\u0430 \\u0445\\u0443\\u0439 \\u0442\\u0430\\u043c\\n\\u041d\\u0430 \\u043a\\u0443\\u0440\\u044c\\u0438\\u0445 \\u043d\\u043e\\u0436\\u043a\\u0430\\u0445 \\u044d\\u0442\\u0430 \\u0438\\u0437\\u0431\\u0443\\u0448\\u043a\\u0430\\n(\\u041d\\u0435 \\u0431\\u044b\\u043b\\u043e \\u0438 \\u043d\\u0435\\u0442)\\n\\u0425\\u0432\\u043e\\u0441\\u0442\\u0438\\u043a\\u043e\\u043c \\u0441\\u043c\\u0430\\u0445\\u043d\\u0451\\u0442 \\u043c\\u0435\\u043d\\u044f \\u043c\\u044b\\u0448\\u043a\\u0430-\\u043d\\u043e\\u0440\\u0443\\u0448\\u043a\\u0430\\n\\n\\n[\\u041a\\u0443\\u043f\\u043b\\u0435\\u0442 1]\\n\\u0412\\u0441\\u0451 \\u2014 \\u044d\\u0442\\u043e \\u043d\\u0435 \\u0437\\u043d\\u0430\\u0447\\u0438\\u0442 \\u043d\\u0438\\u0447\\u0435\\u0433\\u043e, \\u0430 \\u044d\\u0442\\u043e \\u0437\\u043d\\u0430\\u0447\\u0438\\u0442 \\u0432\\u0441\\u0451\\n\\u041c\\u0451\\u0440\\u0442\\u0432\\u043e\\u0435 \\u043e\\u0436\\u0438\\u043b\\u043e, \\u043f\\u043e\\u0442\\u043e\\u043c \\u0441\\u043d\\u043e\\u0432\\u0430 \\u043f\\u043e\\u043c\\u0435\\u0440\\u043b\\u043e\\n\\u0418 \\u0434\\u0430\\u043b\\u044c\\u0448\\u0435 \\u043f\\u043e\\u0442\\u0430\\u0449\\u0438\\u043b\\u0430 \\u043a\\u0440\\u0435\\u0441\\u0442, \\u0438\\u0437-\\u0437\\u0430 \\u043f\\u043b\\u0435\\u0448\\u0438\\u0432\\u043e\\u0439 \\u0441\\u043a\\u0430\\u043b\\u044b \\u0431\\u043b\\u0430\\u0433\\u043e\\u0432\\u0435\\u0441\\u0442\\n\\n(\\u0412\\u0441\\u0435, \\u044d\\u0442\\u043e \\u043d\\u0435 \\u0437\\u043d\\u0430\\u0447\\u0438\\u0442 \\u043d\\u0438\\u0447\\u0435\\u0433\\u043e) \\u0410 \\u044d\\u0442\\u043e \\u0437\\u043d\\u0430\\u0447\\u0438\\u0442, \\u0435\\u0441\\u0442\\u044c\\n\\u041d\\u0435\\u043a\\u043e\\u0435 \\u043e\\u0434\\u043d\\u043e, \\u043d\\u043e \\u0438\\u0445 \\u0442\\u0430\\u043a \\u043c\\u043d\\u043e\\u0433\\u043e, \\u0447\\u0442\\u043e \\u043d\\u0435 \\u0441\\u0447\\u0435\\u0441\\u0442\\u044c \\u043d\\u0443\\u043b\\u0451\\u043c\\n\\u0418 \\u043c\\u044b \\u0438\\u0441\\u0447\\u0435\\u0437\\u043d\\u0435\\u043c \\u0434\\u043d\\u0451\\u043c, \\u043a\\u0430\\u043a \\u044d\\u0442\\u0438 \\u0442\\u0435\\u043d\\u0438 \\u043a\\u0443\\u0447\\u0435\\u0440\\u044f\\u0432\\u044b\\u0445 \\u043a\\u0440\\u043e\\u043d\\n\\u0412\\u0435\\u0434\\u044c \\u043e \\u0445\\u0440\\u0435\\u0431\\u0435\\u0442 \\u0432\\u043e\\u043b\\u043d\\u044b (\\u041d\\u0435 \\u043f\\u0435\\u0440\\u0435\\u043b\\u043e\\u043c\\u044f\\u0442 \\u044f\\u043a \\u0445\\u0440\\u0435\\u0431\\u0435\\u0442 \\u0441 \\u0432\\u0435\\u0441\\u043b\\u043e)\\n\\u041a\\u0440\\u043e\\u0448\\u043a\\u0430 \\u0425\\u0430\\u0440\\u043e\\u043d\\u0430 \\u0437\\u0430 \\u0431\\u0443\\u0439\\u043a\\u0430\\u043c\\u0438 \\u0431\\u0435\\u0441\\u0441\\u043c\\u0435\\u0440\\u0442\\u044c\\u044f \\u0432\\u043e\\u0441\\u0442\\u043e\\u0440\\u0433\\n\\n\\u0414\\u0430\\u0439 \\u043d\\u0430\\u043c \\u0441\\u0432\\u043e\\u0431\\u043e\\u0434\\u0443, \\u043c\\u044b \\u0441\\u0442\\u0440\\u043e\\u0438\\u043c \\u043e\\u0441\\u0442\\u0440\\u043e\\u0433\\n, \\u0432 \\u043d\\u0435\\u043c \\u0436\\u0435 \\u0438 \\u0441\\u0433\\u043d\\u0438\\u0451\\u043c\\n\\u041a\\u0440\\u044b\\u0448\\u0430 \\u0442\\u0435\\u0447\\u0451\\u0442, \\u0431\\u0435\\u043b\\u0438\\u043c \\u043f\\u043e\\u0442\\u043e\\u043b\\u043e\\u043a (\\u0422\\u043e\\u043b\\u043a\\u0443-\\u0442\\u043e?)\\n\\n\\u0412 \\u0441\\u0442\\u0435\\u043f\\u0438 \\u041c\\u0443\\u044e\\u043d\\u043a\\u0443\\u043c\\u0430, \\u0431\\u044b\\u0441\\u0442\\u0440\\u043e\\u043d\\u043e\\u0433\\u0438\\u0439 \\u0432\\u043e\\u043b\\u043a \\u0437\\u043d\\u0430\\u0435\\u0442, \\u0447\\u0442\\u043e \\u043f\\u043e\\u0447\\u0451\\u043c\\n\\n\\u0410 \\u044f, \\u0434\\u044b\\u043c\\u043b\\u044e\\u0441\\u044c, \\u043a\\u0430\\u043a \\u0431\\u0435\\u0441\\u0445\\u043e\\u0437\\u043d\\u044b\\u0439 \\u0431\\u044b\\u0447\\u043e\\u043a\\n\\u041c\\u043e\\u0436\\u0435\\u0442, \\u043a\\u0442\\u043e \\u0437\\u0430\\u043c\\u0435\\u0442\\u0438\\u0442 \\u0442\\u043e\\u0442 \\u0434\\u044b\\u043c\\u043e\\u043a \\u0438 \\u043f\\u043e\\u0434\\u043d\\u0438\\u043c\\u0435\\u0442 \\u0441 \\u0437\\u0435\\u043c\\u043b\\u0438\\n\\n\\u041d\\u0435\\u0432\\u0437\\u043d\\u0430\\u0447\\u0430\\u0439 \\u043f\\u043e\\u0434\\u0441\\u0442\\u0430\\u0432\\u0438\\u0442 \\u043c\\u043d\\u0435 \\u043f\\u043b\\u0435\\u0447\\u043e \\u0438 \\u0442\\u0435\\u043c \\u0441\\u043d\\u0438\\u043c\\u0435\\u0442 \\u0441 \\u043f\\u0435\\u0442\\u043b\\u0438\\n\\u041d\\u043e \\u0436\\u043c\\u0443\\u0440\\u0438\\u043a\\u043e\\u0432 \\u043e\\u0431\\u0432\\u043e\\u0434\\u0438\\u0442 \\u0434\\u0435\\u0442\\u0432\\u043e\\u0440\\u0430, \\u0438\\u0445 \\u0446\\u0432\\u0435\\u0442\\u043d\\u044b\\u0435 \\u043c\\u0435\\u043b\\u043a\\u0438\\n\\u0421\\u0442\\u0440\\u0430\\u0448\\u043d\\u043e \\u043f\\u043e\\u0446\\u0430\\u0440\\u0430\\u043f\\u0430\\u043b\\u0438 \\u0430\\u0441\\u0444\\u0430\\u043b\\u044c\\u0442, \\u0433\\u0434\\u0435 \\u0441\\u0435\\u0434\\u044b\\u0435 \\u043f\\u043b\\u0435\\u0432\\u043a\\u0438\\n\\u041c\\u043d\\u0435 \\u043d\\u0435 \\u0434\\u043e \\u0441\\u043c\\u0435\\u0445\\u0430, \\u043c\\u043d\\u0435 \\u043d\\u0435 \\u0434\\u043e \\u0441\\u043b\\u0451\\u0437\\n\\u041d\\u0430\\u0434 \\u0432\\u0441\\u0435\\u043c \\u0441\\u043c\\u0435\\u044e\\u0441\\u044c, \\u043d\\u043e \\u0441\\u043c\\u0435\\u044e\\u0441\\u044c \\u0432\\u0441\\u0435\\u0440\\u044c\\u0451\\u0437\\n\\n\\u041d\\u0438\\u0447\\u0442\\u043e \\u043d\\u0435 \\u0442\\u0435\\u043f\\u043b\\u0438\\u043b\\u043e\\u0441\\u044c \\u0440\\u043e\\u0441\\u0441\\u044b\\u043f\\u044c\\u044e \\u0437\\u0432\\u0451\\u0437\\u0434\\n\\u0412\\u0441\\u044f \\u044d\\u0442\\u0430 \\u0436\\u0438\\u0437\\u043d\\u044c \\u2014 \\u044d\\u0442\\u043e \\u0442\\u0430\\u043a\\u043e\\u0439 \\u0441\\u0435\\u0431\\u0435 \\u0430\\u043d\\u0435\\u043a\\u0434\\u043e\\u0442\\n\\u0418 \\u043f\\u0443\\u0441\\u0442\\u044c \\u0432 \\u0444\\u0438\\u043d\\u0430\\u043b\\u0435 \\u043d\\u0435 \\u0441\\u043c\\u0435\\u0448\\u043d\\u043e, \\u043d\\u043e \\u044f \\u0445\\u043e\\u0442\\u044f \\u0431\\u044b \\u0436\\u0438\\u043b \\u0433\\u0440\\u0435\\u0448\\u043d\\u043e\\n\\u0412\\u0441\\u0451, \\u0447\\u0442\\u043e \\u0441\\u043a\\u043e\\u043f\\u0438\\u043b \\u2014 \\u043d\\u0438\\u0447\\u0442\\u043e, \\u0432 \\u0433\\u043b\\u0430\\u0432\\u043d\\u044b\\u0445 \\u0440\\u043e\\u043b\\u044f\\u0445 \\u2013 \\u043d\\u0438\\u043a\\u0442\\u043e\\n\\u041e\\u043d \\u0441\\u043a\\u0438\\u043d\\u0435\\u0442 \\u043f\\u043b\\u0430\\u0442\\u044c\\u0435, \\u043f\\u043e\\u0432\\u0435\\u0441\\u0438\\u0442 \\u043d\\u0430 \\u0441\\u0442\\u0443\\u043b\\n\\u041d\\u0430\\u0434\\u043e \\u043b\\u0438 \\u0441\\u043a\\u043e\\u0440\\u0431\\u0435\\u0442\\u044c, \\u043a\\u043e\\u0433\\u0434\\u0430 \\u0445\\u043e\\u0440\\u043e\\u043d\\u044f\\u0442 \\u0434\\u0443\\u0440\\u0430\\u0446\\u043a\\u0438\\u0439 \\u043a\\u043e\\u0441\\u0442\\u044e\\u043c?\"\n        ],\n        \"semantic_type\": \"\",\n        \"description\": \"\"\n      }\n    },\n    {\n      \"column\": \"link\",\n      \"properties\": {\n        \"dtype\": \"string\",\n        \"num_unique_values\": 1263,\n        \"samples\": [\n          \"https://genius.com/Ezhemesyachnye-li-live-righteously-lyrics\",\n          \"https://genius.com/King-sd-vape-vape-vape-remix-lyrics\",\n          \"https://genius.com/Slava-kpss-icarus-rework-2023-lyrics\"\n        ],\n        \"semantic_type\": \"\",\n        \"description\": \"\"\n      }\n    }\n  ]\n}"
            }
          },
          "metadata": {},
          "execution_count": 5
        }
      ]
    },
    {
      "cell_type": "code",
      "source": [
        "df['lyrics'][129]"
      ],
      "metadata": {
        "colab": {
          "base_uri": "https://localhost:8080/",
          "height": 109
        },
        "id": "Jm-vT2dUImCj",
        "outputId": "d58a8e52-c116-4f33-defb-7dd25c6497ea"
      },
      "execution_count": null,
      "outputs": [
        {
          "output_type": "execute_result",
          "data": {
            "text/plain": [
              "'[Текст песни \"Егор Летов\"]\\n\\n[Интро]\\nЙоу, я единственный заслуживаю этого здания, лошки\\n(Этого звания)\\nЙе, йе, йе\\n\\n[Припев]\\nЯ Егор Летов (У, эй)\\nЯ Егор Летов (У, эй)\\nЯ Егор Летов (У, эй)\\nЯ Егор Летов, я Егор Летов\\nЯ Егор Летов (У, эй)\\nЯ Егор Летов (У, эй)\\nЯ Егор Летов (У, эй)\\nЯ Егор Летов, я Егор Летов\\n\\n[Бридж]\\nРусское поле экспериментов\\n(В джазе это называется «Новая романтика»)\\nРусское поле экспериментов\\n(То, что мы сейчас сделаем — своего рода метамодерн)\\n\\n[Припев]\\n(Brrr)\\nЯ Егор Летов (У, эй)\\nЯ Егор Летов (У, эй)\\nЯ Егор Летов (У, эй)\\nЯ Егор Летов, я Егор Летов\\nЯ Егор Летов (У, эй)\\nЯ Егор Летов (У, эй)\\nЯ Егор Летов (У, эй)\\nЯ Егор Летов, я Егор Летов'"
            ],
            "application/vnd.google.colaboratory.intrinsic+json": {
              "type": "string"
            }
          },
          "metadata": {},
          "execution_count": 6
        }
      ]
    },
    {
      "cell_type": "code",
      "source": [
        "import re\n",
        "def remove_bracketed_sections(text):\n",
        "    text = re.sub(r'\\[.*?\\]', '', text)\n",
        "    translation_table = str.maketrans({';': '', '\"': '', ' ': ' '})\n",
        "    return text.translate(translation_table)"
      ],
      "metadata": {
        "id": "TcjcZh_6I9Pb"
      },
      "execution_count": null,
      "outputs": []
    },
    {
      "cell_type": "code",
      "source": [
        "df['lyrics'] = df['lyrics'].apply(remove_bracketed_sections)"
      ],
      "metadata": {
        "id": "tKAv0KwRJAtr"
      },
      "execution_count": null,
      "outputs": []
    },
    {
      "cell_type": "code",
      "source": [
        "df['lyrics'][129]"
      ],
      "metadata": {
        "colab": {
          "base_uri": "https://localhost:8080/",
          "height": 91
        },
        "id": "Q6JZV1t8P_L8",
        "outputId": "d1020bda-c5fc-481d-e4f2-f04d753e928c"
      },
      "execution_count": null,
      "outputs": [
        {
          "output_type": "execute_result",
          "data": {
            "text/plain": [
              "'\\n\\n\\nЙоу, я единственный заслуживаю этого здания, лошки\\n(Этого звания)\\nЙе, йе, йе\\n\\n\\nЯ Егор Летов (У, эй)\\nЯ Егор Летов (У, эй)\\nЯ Егор Летов (У, эй)\\nЯ Егор Летов, я Егор Летов\\nЯ Егор Летов (У, эй)\\nЯ Егор Летов (У, эй)\\nЯ Егор Летов (У, эй)\\nЯ Егор Летов, я Егор Летов\\n\\n\\nРусское поле экспериментов\\n(В джазе это называется «Новая романтика»)\\nРусское поле экспериментов\\n(То, что мы сейчас сделаем — своего рода метамодерн)\\n\\n\\n(Brrr)\\nЯ Егор Летов (У, эй)\\nЯ Егор Летов (У, эй)\\nЯ Егор Летов (У, эй)\\nЯ Егор Летов, я Егор Летов\\nЯ Егор Летов (У, эй)\\nЯ Егор Летов (У, эй)\\nЯ Егор Летов (У, эй)\\nЯ Егор Летов, я Егор Летов'"
            ],
            "application/vnd.google.colaboratory.intrinsic+json": {
              "type": "string"
            }
          },
          "metadata": {},
          "execution_count": 9
        }
      ]
    },
    {
      "cell_type": "code",
      "source": [
        "def preprocess_lyrics(text):\n",
        "    text = re.sub(r'\\n{2,}', '\\n', text)\n",
        "    text = re.sub(r'\\(.*?\\)', '', text)\n",
        "    text = re.sub(r'\\s*\\n\\s*', '\\n', text)\n",
        "    text = text.strip()\n",
        "    return text"
      ],
      "metadata": {
        "id": "5U8o4pd3RUvS"
      },
      "execution_count": null,
      "outputs": []
    },
    {
      "cell_type": "code",
      "source": [
        "df['lyrics'] = df['lyrics'].apply(preprocess_lyrics)\n",
        "df['lyrics'][129]"
      ],
      "metadata": {
        "colab": {
          "base_uri": "https://localhost:8080/",
          "height": 72
        },
        "id": "N78wIC4kRXdB",
        "outputId": "3e6a8b3c-ba48-44a1-a033-45c0434e377d"
      },
      "execution_count": null,
      "outputs": [
        {
          "output_type": "execute_result",
          "data": {
            "text/plain": [
              "'Йоу, я единственный заслуживаю этого здания, лошки\\nЙе, йе, йе\\nЯ Егор Летов\\nЯ Егор Летов\\nЯ Егор Летов\\nЯ Егор Летов, я Егор Летов\\nЯ Егор Летов\\nЯ Егор Летов\\nЯ Егор Летов\\nЯ Егор Летов, я Егор Летов\\nРусское поле экспериментов\\nРусское поле экспериментов\\nЯ Егор Летов\\nЯ Егор Летов\\nЯ Егор Летов\\nЯ Егор Летов, я Егор Летов\\nЯ Егор Летов\\nЯ Егор Летов\\nЯ Егор Летов\\nЯ Егор Летов, я Егор Летов'"
            ],
            "application/vnd.google.colaboratory.intrinsic+json": {
              "type": "string"
            }
          },
          "metadata": {},
          "execution_count": 11
        }
      ]
    },
    {
      "cell_type": "code",
      "source": [
        "all_songs = \"\\n\\n\".join(df['lyrics'].dropna())\n",
        "with open(\"all_songs.txt\", \"w\", encoding=\"utf-8\") as f:\n",
        "    f.write(all_songs)"
      ],
      "metadata": {
        "id": "vZ-wMN4-VZhR"
      },
      "execution_count": null,
      "outputs": []
    },
    {
      "cell_type": "code",
      "source": [
        "import pandas as pd\n",
        "import numpy as numpy\n",
        "import tensorflow as tf\n",
        "import matplotlib.pyplot as plt\n",
        "import os\n",
        "import time\n",
        "import re"
      ],
      "metadata": {
        "execution": {
          "iopub.status.busy": "2024-12-20T19:14:44.321429Z",
          "iopub.execute_input": "2024-12-20T19:14:44.321884Z",
          "iopub.status.idle": "2024-12-20T19:14:54.421406Z",
          "shell.execute_reply.started": "2024-12-20T19:14:44.321838Z",
          "shell.execute_reply": "2024-12-20T19:14:54.420658Z"
        },
        "trusted": true,
        "id": "Mn1ijGtMvOjH",
        "outputId": "45facb13-54d7-47a5-80a5-d2f9d5913b67"
      },
      "outputs": [
        {
          "name": "stderr",
          "text": "/opt/conda/lib/python3.10/site-packages/scipy/__init__.py:146: UserWarning: A NumPy version >=1.16.5 and <1.23.0 is required for this version of SciPy (detected version 1.24.3\n  warnings.warn(f\"A NumPy version >={np_minversion} and <{np_maxversion}\"\n",
          "output_type": "stream"
        }
      ],
      "execution_count": null
    },
    {
      "cell_type": "code",
      "source": [
        "with open('/kaggle/input/all-songs/all_songs.txt', 'r', encoding='utf-8') as F:\n",
        "    text = F.read()\n",
        "\n",
        "print(text[:200])\n",
        "print('length: ', len(text))"
      ],
      "metadata": {
        "execution": {
          "iopub.status.busy": "2024-12-20T19:14:54.422469Z",
          "iopub.execute_input": "2024-12-20T19:14:54.422980Z",
          "iopub.status.idle": "2024-12-20T19:14:54.460811Z",
          "shell.execute_reply.started": "2024-12-20T19:14:54.422956Z",
          "shell.execute_reply": "2024-12-20T19:14:54.460031Z"
        },
        "trusted": true,
        "id": "2LBIxf02vOjK",
        "outputId": "453857c2-06c1-49e4-9144-28daafde029f"
      },
      "outputs": [
        {
          "name": "stdout",
          "text": "Я здесь чисто по фану, поглумиться над слабым\nТы же вылез из мамы под мой дисс на Бабана\nОбличительный пафос — это пшик против папы\nЭти рифмы писал мне пьяный Крипл под спайсом\nТы смешной, слишком дли\nlength:  1491122\n",
          "output_type": "stream"
        }
      ],
      "execution_count": null
    },
    {
      "cell_type": "code",
      "source": [
        "all_chars = sorted(set(text))\n",
        "print(''.join(all_chars))\n",
        "print(len(all_chars))"
      ],
      "metadata": {
        "execution": {
          "iopub.status.busy": "2024-12-20T19:14:54.461850Z",
          "iopub.execute_input": "2024-12-20T19:14:54.462139Z",
          "iopub.status.idle": "2024-12-20T19:14:54.533288Z",
          "shell.execute_reply.started": "2024-12-20T19:14:54.462115Z",
          "shell.execute_reply": "2024-12-20T19:14:54.532435Z"
        },
        "trusted": true,
        "id": "9ZUSVWdAvOjL",
        "outputId": "bfc79fbc-b130-42a7-8a52-31586c241c39"
      },
      "outputs": [
        {
          "name": "stdout",
          "text": "\n !#$%&'()*+,-./0123456789:=?ABCDEFGHIJKLMNOPQRSTUVWXYZ[]_`abcdefghijklmnopqrstuvwxyz{}«»Ë×àáäèéëóùüýāış́̆άακλμЁАБВГДЕЖЗИЙКЛМНОПРСТУФХЦЧШЩЪЫЬЭЮЯабвгдежзийклмнопрстуфхцчшщъыьэюяёіқḿṣ–—’“”„•… �\n191\n",
          "output_type": "stream"
        }
      ],
      "execution_count": null
    },
    {
      "cell_type": "code",
      "source": [
        "cleaned_text = re.sub(r'\\[.*?\\]|\\{.*?\\}|\\.*}?|\\.*–?|\\.*—?|\\.*…?|\\*?|\\.?©', '', text)"
      ],
      "metadata": {
        "execution": {
          "iopub.status.busy": "2024-12-20T19:14:54.535893Z",
          "iopub.execute_input": "2024-12-20T19:14:54.536584Z",
          "iopub.status.idle": "2024-12-20T19:14:55.357829Z",
          "shell.execute_reply.started": "2024-12-20T19:14:54.536543Z",
          "shell.execute_reply": "2024-12-20T19:14:55.356857Z"
        },
        "trusted": true,
        "id": "v8RZ8qravOjL"
      },
      "outputs": [],
      "execution_count": null
    },
    {
      "cell_type": "code",
      "source": [
        "vocab = sorted(set(cleaned_text))\n",
        "print(''.join(vocab))\n",
        "print(len(vocab))"
      ],
      "metadata": {
        "execution": {
          "iopub.status.busy": "2024-12-20T19:14:55.358794Z",
          "iopub.execute_input": "2024-12-20T19:14:55.359101Z",
          "iopub.status.idle": "2024-12-20T19:14:55.434426Z",
          "shell.execute_reply.started": "2024-12-20T19:14:55.359078Z",
          "shell.execute_reply": "2024-12-20T19:14:55.433395Z"
        },
        "trusted": true,
        "id": "GV1H1wVNvOjM",
        "outputId": "1a8add5f-7aa3-428f-f95b-b43ed4bdbf43"
      },
      "outputs": [
        {
          "name": "stdout",
          "text": "\n !#$%&'()+,-/0123456789:=?ABCDEFGHIJKLMNOPQRSTUVWXYZ[]_`abcdefghijklmnopqrstuvwxyz{«»Ë×àáäèéëóùüýāış́̆άακλμЁАБВГДЕЖЗИЙКЛМНОПРСТУФХЦЧШЩЪЫЬЭЮЯабвгдежзийклмнопрстуфхцчшщъыьэюяёіқḿṣ’“”„• �\n185\n",
          "output_type": "stream"
        }
      ],
      "execution_count": null
    },
    {
      "cell_type": "code",
      "source": [
        "ids_from_chars = tf.keras.layers.StringLookup(vocabulary=vocab,mask_token=None)"
      ],
      "metadata": {
        "execution": {
          "iopub.status.busy": "2024-12-20T19:14:55.435450Z",
          "iopub.execute_input": "2024-12-20T19:14:55.435770Z",
          "iopub.status.idle": "2024-12-20T19:14:56.592830Z",
          "shell.execute_reply.started": "2024-12-20T19:14:55.435746Z",
          "shell.execute_reply": "2024-12-20T19:14:56.592171Z"
        },
        "trusted": true,
        "id": "xy8_jxfWvOjM"
      },
      "outputs": [],
      "execution_count": null
    },
    {
      "cell_type": "code",
      "source": [
        "chars_from_ids = tf.keras.layers.StringLookup(vocabulary=ids_from_chars.get_vocabulary(), invert=True, mask_token=None)"
      ],
      "metadata": {
        "execution": {
          "iopub.status.busy": "2024-12-20T19:14:56.593841Z",
          "iopub.execute_input": "2024-12-20T19:14:56.594117Z",
          "iopub.status.idle": "2024-12-20T19:14:56.612759Z",
          "shell.execute_reply.started": "2024-12-20T19:14:56.594097Z",
          "shell.execute_reply": "2024-12-20T19:14:56.611913Z"
        },
        "trusted": true,
        "id": "8qYCYzAAvOjM"
      },
      "outputs": [],
      "execution_count": null
    },
    {
      "cell_type": "code",
      "source": [
        "def text_from_ids(ids):\n",
        "    return tf.strings.reduce_join(chars_from_ids(ids), axis=-1)"
      ],
      "metadata": {
        "execution": {
          "iopub.status.busy": "2024-12-20T19:14:56.613734Z",
          "iopub.execute_input": "2024-12-20T19:14:56.613970Z",
          "iopub.status.idle": "2024-12-20T19:14:56.617673Z",
          "shell.execute_reply.started": "2024-12-20T19:14:56.613950Z",
          "shell.execute_reply": "2024-12-20T19:14:56.616913Z"
        },
        "trusted": true,
        "id": "anbpJHo-vOjM"
      },
      "outputs": [],
      "execution_count": null
    },
    {
      "cell_type": "code",
      "source": [
        "text_enc = ids_from_chars(tf.strings.unicode_split(cleaned_text, input_encoding='UTF-8'))\n",
        "ids_dataset = tf.data.Dataset.from_tensor_slices(tensors=text_enc)"
      ],
      "metadata": {
        "execution": {
          "iopub.status.busy": "2024-12-20T19:14:56.618573Z",
          "iopub.execute_input": "2024-12-20T19:14:56.618820Z",
          "iopub.status.idle": "2024-12-20T19:14:57.192877Z",
          "shell.execute_reply.started": "2024-12-20T19:14:56.618801Z",
          "shell.execute_reply": "2024-12-20T19:14:57.192141Z"
        },
        "trusted": true,
        "id": "HXy4M1ASvOjN"
      },
      "outputs": [],
      "execution_count": null
    },
    {
      "cell_type": "code",
      "source": [
        "sequence_len = 100\n",
        "sequences = ids_dataset.batch(sequence_len+1, drop_remainder=True)\n"
      ],
      "metadata": {
        "execution": {
          "iopub.status.busy": "2024-12-20T19:14:57.193914Z",
          "iopub.execute_input": "2024-12-20T19:14:57.194168Z",
          "iopub.status.idle": "2024-12-20T19:14:57.201081Z",
          "shell.execute_reply.started": "2024-12-20T19:14:57.194148Z",
          "shell.execute_reply": "2024-12-20T19:14:57.200391Z"
        },
        "trusted": true,
        "id": "5xdbVBNRvOjN"
      },
      "outputs": [],
      "execution_count": null
    },
    {
      "cell_type": "code",
      "source": [
        "def split_input_target(chunk):\n",
        "    input_text = chunk[:-1]\n",
        "    target_text = chunk[1:]\n",
        "    return input_text, target_text"
      ],
      "metadata": {
        "execution": {
          "iopub.status.busy": "2024-12-20T19:14:57.202207Z",
          "iopub.execute_input": "2024-12-20T19:14:57.202548Z",
          "iopub.status.idle": "2024-12-20T19:14:57.213843Z",
          "shell.execute_reply.started": "2024-12-20T19:14:57.202506Z",
          "shell.execute_reply": "2024-12-20T19:14:57.213052Z"
        },
        "trusted": true,
        "id": "L_VaVhNsvOjN"
      },
      "outputs": [],
      "execution_count": null
    },
    {
      "cell_type": "code",
      "source": [
        "dataset = sequences.map(split_input_target)"
      ],
      "metadata": {
        "execution": {
          "iopub.status.busy": "2024-12-20T19:14:57.214914Z",
          "iopub.execute_input": "2024-12-20T19:14:57.215185Z",
          "iopub.status.idle": "2024-12-20T19:14:57.264619Z",
          "shell.execute_reply.started": "2024-12-20T19:14:57.215154Z",
          "shell.execute_reply": "2024-12-20T19:14:57.263777Z"
        },
        "trusted": true,
        "id": "ieMezkhFvOjN"
      },
      "outputs": [],
      "execution_count": null
    },
    {
      "cell_type": "code",
      "source": [
        "batch_size = 64\n",
        "buffer_size = 10000\n",
        "dataset = dataset.shuffle(buffer_size).batch(batch_size, drop_remainder=True).prefetch(tf.data.experimental.AUTOTUNE)"
      ],
      "metadata": {
        "execution": {
          "iopub.status.busy": "2024-12-20T19:14:57.267493Z",
          "iopub.execute_input": "2024-12-20T19:14:57.267782Z",
          "iopub.status.idle": "2024-12-20T19:14:57.279057Z",
          "shell.execute_reply.started": "2024-12-20T19:14:57.267761Z",
          "shell.execute_reply": "2024-12-20T19:14:57.278279Z"
        },
        "trusted": true,
        "id": "eBZXKSXkvOjO"
      },
      "outputs": [],
      "execution_count": null
    },
    {
      "cell_type": "code",
      "source": [
        "vocab_size = len(ids_from_chars.get_vocabulary())\n",
        "embedding_dim = 256\n",
        "rnn_units = 1024"
      ],
      "metadata": {
        "execution": {
          "iopub.status.busy": "2024-12-20T19:14:57.279971Z",
          "iopub.execute_input": "2024-12-20T19:14:57.280193Z",
          "iopub.status.idle": "2024-12-20T19:14:57.285308Z",
          "shell.execute_reply.started": "2024-12-20T19:14:57.280174Z",
          "shell.execute_reply": "2024-12-20T19:14:57.284593Z"
        },
        "trusted": true,
        "id": "FRFLHiZqvOjO"
      },
      "outputs": [],
      "execution_count": null
    },
    {
      "cell_type": "code",
      "source": [
        "import tensorflow as tf\n",
        "\n",
        "class MyModel(tf.keras.Model):\n",
        "    def __init__(self, vocab_size, embedding_dim, rnn_units):\n",
        "        super().__init__()\n",
        "        self.embedding = tf.keras.layers.Embedding(vocab_size, embedding_dim)\n",
        "        self.lstm1 = tf.keras.layers.LSTM(rnn_units, return_sequences=True, return_state=True, dropout=0.2, recurrent_dropout=0.2)\n",
        "        self.lstm2 = tf.keras.layers.LSTM(rnn_units // 2, return_sequences=True, return_state=True, dropout=0.2, recurrent_dropout=0.2)\n",
        "        self.dense1 = tf.keras.layers.Dense(128, activation='relu')\n",
        "        self.batch_norm = tf.keras.layers.BatchNormalization()\n",
        "        self.dense2 = tf.keras.layers.Dense(vocab_size)\n",
        "\n",
        "    def call(self, inputs, states=None, return_state=False, training=False):\n",
        "        x = inputs\n",
        "        x = self.embedding(x, training=training)\n",
        "        if states is None:\n",
        "            states1 = self.lstm1.get_initial_state(x)\n",
        "        else:\n",
        "            states1 = states[:2]\n",
        "        x, h1, c1 = self.lstm1(x, initial_state=states1, training=training)\n",
        "        if states is None:\n",
        "            states2 = self.lstm2.get_initial_state(x)\n",
        "        else:\n",
        "            states2 = states[2:]\n",
        "        x, h2, c2 = self.lstm2(x, initial_state=states2, training=training)\n",
        "\n",
        "        x = self.dense1(x, training=training)\n",
        "        x = self.batch_norm(x, training=training)\n",
        "        x = self.dense2(x, training=training)\n",
        "\n",
        "        if return_state:\n",
        "            return x, [h1, c1, h2, c2]\n",
        "        else:\n",
        "            return x\n"
      ],
      "metadata": {
        "execution": {
          "iopub.status.busy": "2024-12-20T19:14:57.286376Z",
          "iopub.execute_input": "2024-12-20T19:14:57.286675Z",
          "iopub.status.idle": "2024-12-20T19:14:57.296377Z",
          "shell.execute_reply.started": "2024-12-20T19:14:57.286644Z",
          "shell.execute_reply": "2024-12-20T19:14:57.295467Z"
        },
        "trusted": true,
        "id": "G7SUd7uavOjO"
      },
      "outputs": [],
      "execution_count": null
    },
    {
      "cell_type": "code",
      "source": [
        "model = MyModel(vocab_size=vocab_size, embedding_dim=embedding_dim, rnn_units=rnn_units)"
      ],
      "metadata": {
        "execution": {
          "iopub.status.busy": "2024-12-20T19:14:57.311022Z",
          "iopub.execute_input": "2024-12-20T19:14:57.311314Z",
          "iopub.status.idle": "2024-12-20T19:14:57.340274Z",
          "shell.execute_reply.started": "2024-12-20T19:14:57.311292Z",
          "shell.execute_reply": "2024-12-20T19:14:57.339676Z"
        },
        "trusted": true,
        "id": "__4SZr4gvOjO"
      },
      "outputs": [],
      "execution_count": null
    },
    {
      "cell_type": "code",
      "source": [
        "class PerplexityCallback(tf.keras.callbacks.Callback):\n",
        "    def __init__(self):\n",
        "        super().__init__()\n",
        "        self.perplexity_values = []\n",
        "\n",
        "    def on_epoch_end(self, epoch, logs=None):\n",
        "        if logs and 'loss' in logs:\n",
        "            loss = logs['loss']\n",
        "            self.perplexity_values.append(np.exp(loss))  # Перплексия = exp(ср лосс)\n",
        "            print(f\"Epoch {epoch + 1}: Perplexity = {np.exp(loss):.4f}\")\n"
      ],
      "metadata": {
        "trusted": true,
        "execution": {
          "iopub.status.busy": "2024-12-20T19:14:57.297247Z",
          "iopub.execute_input": "2024-12-20T19:14:57.297544Z",
          "iopub.status.idle": "2024-12-20T19:14:57.310089Z",
          "shell.execute_reply.started": "2024-12-20T19:14:57.297515Z",
          "shell.execute_reply": "2024-12-20T19:14:57.309196Z"
        },
        "id": "9fzWrUw0vOjO"
      },
      "outputs": [],
      "execution_count": null
    },
    {
      "cell_type": "code",
      "source": [
        "model.summary()"
      ],
      "metadata": {
        "execution": {
          "iopub.status.busy": "2024-12-20T19:15:01.611601Z",
          "iopub.execute_input": "2024-12-20T19:15:01.612008Z",
          "iopub.status.idle": "2024-12-20T19:15:01.634788Z",
          "shell.execute_reply.started": "2024-12-20T19:15:01.611975Z",
          "shell.execute_reply": "2024-12-20T19:15:01.634011Z"
        },
        "trusted": true,
        "id": "u2ifp37YvOjP",
        "outputId": "940b2618-5743-4b26-a19f-108c86baceee"
      },
      "outputs": [
        {
          "name": "stdout",
          "text": "Model: \"my_model\"\n_________________________________________________________________\n Layer (type)                Output Shape              Param #   \n=================================================================\n embedding (Embedding)       multiple                  47616     \n                                                                 \n lstm (LSTM)                 multiple                  5246976   \n                                                                 \n lstm_1 (LSTM)               multiple                  3147776   \n                                                                 \n dense (Dense)               multiple                  65664     \n                                                                 \n batch_normalization (Batch  multiple                  512       \n Normalization)                                                  \n                                                                 \n dense_1 (Dense)             multiple                  23994     \n                                                                 \n=================================================================\nTotal params: 8532538 (32.55 MB)\nTrainable params: 8532282 (32.55 MB)\nNon-trainable params: 256 (1.00 KB)\n_________________________________________________________________\n",
          "output_type": "stream"
        }
      ],
      "execution_count": null
    },
    {
      "cell_type": "code",
      "source": [
        "model.compile(optimizer='adam', loss=tf.keras.losses.SparseCategoricalCrossentropy(from_logits=True))"
      ],
      "metadata": {
        "execution": {
          "iopub.status.busy": "2024-12-20T19:15:01.714590Z",
          "iopub.execute_input": "2024-12-20T19:15:01.714788Z",
          "iopub.status.idle": "2024-12-20T19:15:01.730525Z",
          "shell.execute_reply.started": "2024-12-20T19:15:01.714771Z",
          "shell.execute_reply": "2024-12-20T19:15:01.729735Z"
        },
        "trusted": true,
        "id": "S6S92ATkvOjP"
      },
      "outputs": [],
      "execution_count": null
    },
    {
      "cell_type": "code",
      "source": [
        "perplexity_callback = PerplexityCallback()"
      ],
      "metadata": {
        "trusted": true,
        "execution": {
          "iopub.status.busy": "2024-12-20T19:15:01.731458Z",
          "iopub.execute_input": "2024-12-20T19:15:01.731680Z",
          "iopub.status.idle": "2024-12-20T19:15:01.735404Z",
          "shell.execute_reply.started": "2024-12-20T19:15:01.731661Z",
          "shell.execute_reply": "2024-12-20T19:15:01.734560Z"
        },
        "id": "diqac7DAvOjP"
      },
      "outputs": [],
      "execution_count": null
    },
    {
      "cell_type": "code",
      "source": [
        "EPOCHS = 10\n",
        "history = model.fit(dataset, epochs=EPOCHS, callbacks=[perplexity_callback])"
      ],
      "metadata": {
        "execution": {
          "iopub.status.busy": "2024-12-20T19:15:01.736442Z",
          "iopub.execute_input": "2024-12-20T19:15:01.736735Z",
          "iopub.status.idle": "2024-12-20T19:33:29.413608Z",
          "shell.execute_reply.started": "2024-12-20T19:15:01.736704Z",
          "shell.execute_reply": "2024-12-20T19:33:29.412465Z"
        },
        "trusted": true,
        "id": "PQzuqsvSvOjP",
        "outputId": "547e2ea1-3fa4-422b-d99d-2aaccf1e07b5"
      },
      "outputs": [
        {
          "name": "stdout",
          "text": "Epoch 1/10\n229/229 [==============================] - ETA: 0s - loss: 3.0187Epoch 1: Perplexity = 20.4637\n229/229 [==============================] - 119s 489ms/step - loss: 3.0187\nEpoch 2/10\n229/229 [==============================] - ETA: 0s - loss: 2.3257Epoch 2: Perplexity = 10.2340\n229/229 [==============================] - 110s 474ms/step - loss: 2.3257\nEpoch 3/10\n229/229 [==============================] - ETA: 0s - loss: 2.0890Epoch 3: Perplexity = 8.0767\n229/229 [==============================] - 110s 473ms/step - loss: 2.0890\nEpoch 4/10\n229/229 [==============================] - ETA: 0s - loss: 1.9401Epoch 4: Perplexity = 6.9595\n229/229 [==============================] - 111s 476ms/step - loss: 1.9401\nEpoch 5/10\n229/229 [==============================] - ETA: 0s - loss: 1.8396Epoch 5: Perplexity = 6.2941\n229/229 [==============================] - 109s 469ms/step - loss: 1.8396\nEpoch 6/10\n229/229 [==============================] - ETA: 0s - loss: 1.7634Epoch 6: Perplexity = 5.8320\n229/229 [==============================] - 109s 471ms/step - loss: 1.7634\nEpoch 7/10\n229/229 [==============================] - ETA: 0s - loss: 1.7011Epoch 7: Perplexity = 5.4801\n229/229 [==============================] - 110s 473ms/step - loss: 1.7011\nEpoch 8/10\n229/229 [==============================] - ETA: 0s - loss: 1.6491Epoch 8: Perplexity = 5.2021\n229/229 [==============================] - 110s 472ms/step - loss: 1.6491\nEpoch 9/10\n229/229 [==============================] - ETA: 0s - loss: 1.6047Epoch 9: Perplexity = 4.9762\n229/229 [==============================] - 110s 472ms/step - loss: 1.6047\nEpoch 10/10\n229/229 [==============================] - ETA: 0s - loss: 1.5661Epoch 10: Perplexity = 4.7881\n229/229 [==============================] - 110s 472ms/step - loss: 1.5661\n",
          "output_type": "stream"
        },
        {
          "traceback": [
            "\u001b[0;31m---------------------------------------------------------------------------\u001b[0m",
            "\u001b[0;31mNameError\u001b[0m                                 Traceback (most recent call last)",
            "Cell \u001b[0;32mIn[28], line 5\u001b[0m\n\u001b[1;32m      2\u001b[0m history \u001b[38;5;241m=\u001b[39m model\u001b[38;5;241m.\u001b[39mfit(dataset, epochs\u001b[38;5;241m=\u001b[39mEPOCHS, callbacks\u001b[38;5;241m=\u001b[39m[perplexity_callback])\n\u001b[1;32m      4\u001b[0m \u001b[38;5;66;03m# Построение графика перплексии\u001b[39;00m\n\u001b[0;32m----> 5\u001b[0m \u001b[43mplt\u001b[49m\u001b[38;5;241m.\u001b[39mfigure(figsize\u001b[38;5;241m=\u001b[39m(\u001b[38;5;241m10\u001b[39m, \u001b[38;5;241m6\u001b[39m))\n\u001b[1;32m      6\u001b[0m plt\u001b[38;5;241m.\u001b[39mplot(\u001b[38;5;28mrange\u001b[39m(\u001b[38;5;241m1\u001b[39m, EPOCHS \u001b[38;5;241m+\u001b[39m \u001b[38;5;241m1\u001b[39m), perplexity_callback\u001b[38;5;241m.\u001b[39mperplexity_values, marker\u001b[38;5;241m=\u001b[39m\u001b[38;5;124m'\u001b[39m\u001b[38;5;124mo\u001b[39m\u001b[38;5;124m'\u001b[39m, label\u001b[38;5;241m=\u001b[39m\u001b[38;5;124m'\u001b[39m\u001b[38;5;124mPerplexity\u001b[39m\u001b[38;5;124m'\u001b[39m)\n\u001b[1;32m      7\u001b[0m plt\u001b[38;5;241m.\u001b[39mxlabel(\u001b[38;5;124m'\u001b[39m\u001b[38;5;124mEpoch\u001b[39m\u001b[38;5;124m'\u001b[39m)\n",
            "\u001b[0;31mNameError\u001b[0m: name 'plt' is not defined"
          ],
          "ename": "NameError",
          "evalue": "name 'plt' is not defined",
          "output_type": "error"
        }
      ],
      "execution_count": null
    },
    {
      "cell_type": "code",
      "source": [
        "# Построение графика перплексии\n",
        "plt.figure(figsize=(10, 6))\n",
        "plt.plot(range(1, EPOCHS + 1), perplexity_callback.perplexity_values)\n",
        "plt.xlabel('Epoch')\n",
        "plt.ylabel('Perplexity')\n",
        "plt.legend()\n",
        "plt.grid()\n",
        "plt.show()"
      ],
      "metadata": {
        "trusted": true,
        "execution": {
          "iopub.status.busy": "2024-12-20T19:34:42.412630Z",
          "iopub.execute_input": "2024-12-20T19:34:42.413068Z",
          "iopub.status.idle": "2024-12-20T19:34:42.697408Z",
          "shell.execute_reply.started": "2024-12-20T19:34:42.413043Z",
          "shell.execute_reply": "2024-12-20T19:34:42.696643Z"
        },
        "id": "LHifXY62vOjP",
        "outputId": "dd2b6f10-a719-4a81-bd8c-a5cde99a6f1f"
      },
      "outputs": [
        {
          "output_type": "display_data",
          "data": {
            "text/plain": "<Figure size 1000x600 with 1 Axes>",
            "image/png": "[encoded data removed]"
          },
          "metadata": {}
        }
      ],
      "execution_count": null
    },
    {
      "cell_type": "code",
      "source": [
        "class OneStep(tf.keras.Model):\n",
        "  def __init__(self, model, chars_from_ids, ids_from_chars, temperature=1.0):\n",
        "    super().__init__()\n",
        "    self.temperature = temperature\n",
        "    self.model = model\n",
        "    self.chars_from_ids = chars_from_ids\n",
        "    self.ids_from_chars = ids_from_chars\n",
        "\n",
        "    skip_ids = self.ids_from_chars(['[UNK]'])[:, None]\n",
        "    sparse_mask = tf.SparseTensor(\n",
        "        values=[-float('inf')]*len(skip_ids),\n",
        "        indices=skip_ids,\n",
        "        dense_shape=[len(ids_from_chars.get_vocabulary())])\n",
        "    self.prediction_mask = tf.sparse.to_dense(sparse_mask)\n",
        "\n",
        "  @tf.function\n",
        "  def generate_one_step(self, inputs, states=None):\n",
        "    # Convert strings to token IDs.\n",
        "    input_chars = tf.strings.unicode_split(inputs, 'UTF-8')\n",
        "    input_ids = self.ids_from_chars(input_chars).to_tensor()\n",
        "\n",
        "    # predicted_logits.shape должно быть [batch, char, next_char_logits]\n",
        "    predicted_logits, states = self.model(inputs=input_ids, states=states,\n",
        "                                          return_state=True)\n",
        "    # Беру последний предикт\n",
        "    predicted_logits = predicted_logits[:, -1, :]\n",
        "    predicted_logits = predicted_logits/self.temperature\n",
        "    predicted_logits = predicted_logits + self.prediction_mask\n",
        "\n",
        "    predicted_ids = tf.random.categorical(predicted_logits, num_samples=1)\n",
        "    predicted_ids = tf.squeeze(predicted_ids, axis=-1)\n",
        "\n",
        "    predicted_chars = self.chars_from_ids(predicted_ids)\n",
        "\n",
        "    return predicted_chars, states"
      ],
      "metadata": {
        "execution": {
          "iopub.status.busy": "2024-12-20T19:34:49.431761Z",
          "iopub.execute_input": "2024-12-20T19:34:49.432616Z",
          "iopub.status.idle": "2024-12-20T19:34:49.440326Z",
          "shell.execute_reply.started": "2024-12-20T19:34:49.432585Z",
          "shell.execute_reply": "2024-12-20T19:34:49.439401Z"
        },
        "trusted": true,
        "id": "goiYzG3QvOjQ"
      },
      "outputs": [],
      "execution_count": null
    },
    {
      "cell_type": "code",
      "source": [
        "one_step_model = OneStep(model, chars_from_ids, ids_from_chars)"
      ],
      "metadata": {
        "execution": {
          "iopub.status.busy": "2024-12-20T19:34:53.648185Z",
          "iopub.execute_input": "2024-12-20T19:34:53.648584Z",
          "iopub.status.idle": "2024-12-20T19:34:53.670975Z",
          "shell.execute_reply.started": "2024-12-20T19:34:53.648558Z",
          "shell.execute_reply": "2024-12-20T19:34:53.670314Z"
        },
        "trusted": true,
        "id": "jXAGZOhNvOjQ"
      },
      "outputs": [],
      "execution_count": null
    },
    {
      "cell_type": "code",
      "source": [
        "start = time.time()\n",
        "states = None\n",
        "next_char = tf.constant(['\\n'])\n",
        "result = [next_char]\n",
        "\n",
        "for n in range(2000):\n",
        "    next_char, states = one_step_model.generate_one_step(next_char, states=states)\n",
        "    result.append(next_char)\n",
        "\n",
        "result = tf.strings.join(result)\n",
        "end = time.time()\n",
        "print(result[0].numpy().decode('utf-8'), '\\n\\n' + '_'*100)\n",
        "print('\\nRun time:', end - start)"
      ],
      "metadata": {
        "execution": {
          "iopub.status.busy": "2024-12-20T19:34:56.413488Z",
          "iopub.execute_input": "2024-12-20T19:34:56.414545Z",
          "iopub.status.idle": "2024-12-20T19:35:03.613583Z",
          "shell.execute_reply.started": "2024-12-20T19:34:56.414512Z",
          "shell.execute_reply": "2024-12-20T19:35:03.612709Z"
        },
        "trusted": true,
        "id": "-yiwNlRevOjQ",
        "outputId": "e47430c6-9a81-44cf-f1fb-ec43f5364cf9"
      },
      "outputs": [
        {
          "name": "stdout",
          "text": "\nРа-та-та-та-та-та-та-та-та-та-та-та-та-та-та-та-та-та-та-та-та-та-та-та-та-та-та-та-та-та-та-та-та-та-та-та-та-та-та-та-та-та-та-та-та-та-та-та-та-та-та-та-та-та-та-та-та-та-та-та-та-та-та-та-та-та-та-та-та-та-та-та-та-та-та-та-та-та-та-та-та-та-та-та-та-та-та-та-та-та-та-та-та-та-та-та-та-та-та-та-та-та-та-та-та-та-та-та-та-та-та-та-та-та-та-та-та-та-та-та-та-та-та-та-та-та-та-та-та-та-та-та-та-та-та-та-та-та-та-та-та-та-та-та-та-та-та-та-та-та-та-та-та-та-та-та-та-та-та-та-та-та-та-та-та-та-та-та-та-та-та-та-та-та-та-та-та-та-та-та-та-та-та-та-та-та-та-та-та-та-та-та-та-та-та-та-та-та-та-та-та-та-та-та-та-та-та-та-та-та-та-та-та-та-та-та-та-та-та-та-та-та-та-та-та-та-та-та-та-та-та-та-та-та-та-та-та-та-та-та-та-та-та-та-та-та-та-та-та-та-та-та-та-та-та-та-та-та-та-та-та-та-та-та-та-та-та-та-та-та-та-та-та-та-та-та-та-та-та-та-та-та-та-та-та-та-та-та-та-та-та-та-та-та-та-та-та-та-та-та-та-та-та-та-та-та-та-та-та-та-та-та-та-та-та-та-та-та-та-та-та-та-та-та-та-та-та-та-та-та-та-та-та-та-та-та-та-та-та-та-та-та-та-та-та-та-та-та-та-та-та-та-та-та-та-та-та-та-та-та-та-та-та-та-та-та-та-та-та-та-та-та-та-та-та-та-та-та-та-та-та-ла-ла-ла-ла-ла-ла-ла, а-у-у-у-у-у-у-у-у-у, а-у-у-у-у)\nЭто живут научиться, забываемых на любой шканке у меня эмоции помировки\nНо этот прикольчик из слова Фармента и Ария, ежемесячный\n\nТеперь вырос, привет зависилась!\nЯ не согласна, но когда нахва у нас, я больше не был бесполезные\nЯ видимо думаю, но ночью гарень в натуре Рифма\nИ молодым как на силах сторона ночи, но я добрый барыш\nВсю это правда эта попоработа, на корня написана феэс\nЗалай бухнит на трибание, ботань  лябов подумал\nКухлочка грозный гэнджей, ты покоришь gloiz strurs\nЭто Крэпсово\nКак вы, Хибрайт и Бородскую Офима\nКак когда спокойно теперь ты можешь хорошо вей?\nНо мне нет в Както тебе подвишет?\nХ: Ты принеси мне стало признаким рэпаком\nМаща Эгоист из России\nНо незабывать мне по увалкову из показуха\nОбычно было юношение никто, я  бегу на хип-хоп - это говорят\nСтанциад карликом в вид, \n\n____________________________________________________________________________________________________\n\nRun time: 7.190587520599365\n",
          "output_type": "stream"
        }
      ],
      "execution_count": null
    },
    {
      "cell_type": "markdown",
      "source": [
        "Потери уменьшились с 3.02 до 1.57. Это указывает на успешное обучение модели, что подтверждается соответствующим снижением перплексити."
      ],
      "metadata": {
        "id": "SfWtlUVuxs-n"
      }
    },
    {
      "cell_type": "markdown",
      "source": [
        "Текст конечно дурацкий, но я очень много времени потратил, чтобы достичь хотя бы того, что бы модель генерировала реальные слова, а не вымышленные. Пробовал разные модели, например gpt-2, было сильно хуже. На каникулах попробую докрутить до лучшего результата"
      ],
      "metadata": {
        "id": "6qWfQt26xyZN"
      }
    },
    {
      "cell_type": "markdown",
      "source": [
        "Констант было мало, поэтому не стал отдельный конфиг файл создавать"
      ],
      "metadata": {
        "id": "Q01XoPO5yo-P"
      }
    }
  ]
}