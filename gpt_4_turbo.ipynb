{
  "nbformat": 4,
  "nbformat_minor": 0,
  "metadata": {
    "colab": {
      "provenance": []
    },
    "kernelspec": {
      "name": "python3",
      "display_name": "Python 3"
    },
    "language_info": {
      "name": "python"
    }
  },
  "cells": [
    {
      "cell_type": "code",
      "execution_count": null,
      "metadata": {
        "id": "EKRSSMCYn5Ep"
      },
      "outputs": [],
      "source": [
        "!pip install openai chromadb tiktoken\n",
        "!pip install sentence-transformers faiss-cpu"
      ]
    },
    {
      "cell_type": "code",
      "source": [
        "with open(\"all_songs.txt\", \"r\", encoding=\"utf-8\") as f:\n",
        "    raw_text = f.read()\n",
        "\n",
        "songs = [song.strip() for song in raw_text.split(\"\\n\\n\") if song.strip()]\n",
        "print(f\"Загружено {len(songs)} песен!\")"
      ],
      "metadata": {
        "colab": {
          "base_uri": "https://localhost:8080/"
        },
        "id": "d_-_PWCcoOXT",
        "outputId": "b80dca21-434c-44ee-c4ee-67aba46df74b"
      },
      "execution_count": null,
      "outputs": [
        {
          "output_type": "stream",
          "name": "stdout",
          "text": [
            "Загружено 1261 песен!\n"
          ]
        }
      ]
    },
    {
      "cell_type": "code",
      "source": [
        "!pip install -U langchain langchain-community langchain-openai faiss-cpu\n"
      ],
      "metadata": {
        "id": "Czk-iRuBr-SZ"
      },
      "execution_count": null,
      "outputs": []
    },
    {
      "cell_type": "code",
      "source": [
        "import os\n",
        "import getpass\n",
        "import pandas as pd\n",
        "from langchain.text_splitter import RecursiveCharacterTextSplitter\n",
        "from langchain_community.vectorstores import FAISS\n",
        "from langchain_openai import OpenAIEmbeddings\n",
        "from langchain.docstore.document import Document\n",
        "from openai import OpenAI"
      ],
      "metadata": {
        "id": "HhLHow_xrO9l"
      },
      "execution_count": null,
      "outputs": []
    },
    {
      "cell_type": "code",
      "source": [
        "# Функция для создания векторного индекса FAISS\n",
        "def create_search_index(texts, chunk_size=512, chunk_overlap=200):\n",
        "    splitter = RecursiveCharacterTextSplitter(\n",
        "        separators=['\\n\\n', '\\n', ' '], chunk_size=chunk_size, chunk_overlap=chunk_overlap\n",
        "    )\n",
        "\n",
        "    source_chunks = [\n",
        "        Document(page_content=chunk, metadata={'chunkID': i})\n",
        "        for i, chunk in enumerate(splitter.split_text(\"\\n\\n\".join(texts[5:1260])))\n",
        "    ]\n",
        "\n",
        "    if source_chunks:\n",
        "        embedding_model = OpenAIEmbeddings(\n",
        "            model=\"emb-openai/text-embedding-3-small\",\n",
        "            openai_api_base=\"https://api.vsegpt.ru/v1/\",\n",
        "        )\n",
        "        db = FAISS.from_documents(source_chunks, embedding_model)\n",
        "        return db, source_chunks  # Возвращаем и FAISS-базу, и список кусков\n",
        "    else:\n",
        "        return None, None\n",
        "\n",
        "knowledge_base_index, source_chunks = create_search_index(songs)"
      ],
      "metadata": {
        "id": "DGFGF20DofPQ"
      },
      "execution_count": null,
      "outputs": []
    },
    {
      "cell_type": "code",
      "source": [
        "len(knowledge_base_index.index_to_docstore_id)"
      ],
      "metadata": {
        "colab": {
          "base_uri": "https://localhost:8080/"
        },
        "id": "dun1aXGLz-IF",
        "outputId": "101f9a97-2ad7-4c63-ac3c-6b116c19b419"
      },
      "execution_count": null,
      "outputs": [
        {
          "output_type": "execute_result",
          "data": {
            "text/plain": [
              "929"
            ]
          },
          "metadata": {},
          "execution_count": 28
        }
      ]
    },
    {
      "cell_type": "code",
      "source": [
        "existing_text = source_chunks[0].page_content  # Берём текст из базы\n",
        "docs = knowledge_base_index.similarity_search(existing_text, k=5)\n",
        "print(docs)\n"
      ],
      "metadata": {
        "id": "Y-PPcpi604cz"
      },
      "execution_count": null,
      "outputs": []
    },
    {
      "cell_type": "code",
      "source": [
        "embedding_model = OpenAIEmbeddings(\n",
        "    model=\"emb-openai/text-embedding-3-small\",\n",
        "    openai_api_base=\"https://api.vsegpt.ru/v1/\",\n",
        ")\n",
        "\n",
        "query = \"Я иду по улице и вижу фонари\"\n",
        "query_vector = embedding_model.embed_query(query)\n",
        "docs = knowledge_base_index.similarity_search_by_vector(query_vector, k=5)\n",
        "print(docs)\n"
      ],
      "metadata": {
        "colab": {
          "base_uri": "https://localhost:8080/"
        },
        "id": "Bz62gXZKorAo",
        "outputId": "4f7da4e9-36bf-4451-dd2f-da59b636c803"
      },
      "execution_count": null,
      "outputs": [
        {
          "output_type": "stream",
          "name": "stdout",
          "text": [
            "[Document(id='711e8a33-0974-4576-898b-41e9494ea828', metadata={'chunkID': 4146}, page_content='Я, знаешь, запомню я\\nИ я увидел как взрывается булик смешной под Находкой\\nНа Королевской улице парами нарки гарной походкой\\nКанатоходцу было грустно окаянными дорожками\\nКогда говно, когда искусство\\nЯ схожу за мороженным'), Document(id='fbd95441-9130-4edb-b2b9-a1a61bd72d64', metadata={'chunkID': 2635}, page_content='А он смотрит — нет, нет\\nЯ иду — след, след\\nВпереди — смерть, смерть\\nПодожди, звоню соседям\\nВоля тараканья твоя моё внимание\\nБыло бы, если бы воткнула бы водочку. Поругивал\\nИ, когда закусывал, весело подмигивал\\nНогами двигал в такт лимба'), Document(id='6189caeb-399d-4dd4-922c-245cb3fff275', metadata={'chunkID': 3387}, page_content='И я не знаю, мне щас так стыдно на всё это смотреть, но уже не стыдно, уже нормально\\nМне всегда казалось, то что у меня нет стиля\\nЯ помню раньше ходила по улице, и, ну типа, вот это же важно для девушки - как она выглядит, одевается, всё такое\\nМне всегда казалось, что, ну типа, люди идут по улице, и даже если они одеты всрато как-то, типа, ну, блядь, ваще так-то, то что я бы, например, сама ни за что не надела - это значит всрато для меня, вот\\nЯ бы сама не надела всратое'), Document(id='db7217d3-1a75-4280-81bb-7f05dbe5ba38', metadata={'chunkID': 3001}, page_content='На подкорках, конечно, ведь у меня нет денег, чтобы к тебе приехать\\nКак-то я прилетала в СПБ, прошлой весной, пришла на площадь Ленина, там стоял парень, похожий на тебя\\nНо у него,  какая-то плохая на лице, вообще, какой-то он не такой, против солнца стоял\\nЯ сразу обозналась, подошла, а потом поняла, что ошиблась, шла и орала\\nЕсть ли тут вообще что-нибудь настоящее?\\nВ беспределе пошла против потока машин, а один водитель мне дорогу не уступил и так нагло посмотрел, я его обошла'), Document(id='a01fa8ea-8795-41d3-8518-6af1ade604a6', metadata={'chunkID': 840}, page_content='Из любого пустыря может выйти Парнас\\nИз любого бунтаря — продавец-консультант\\nА из нас — только шесть пар красных глаз, и ветер\\nВ голове гуляет так, что успех не светит\\nВокруг строят отношения и строят планы\\nНе поймёшь, то ли прорабы, то ли бараны\\nА мне только через город, пьянство и темень\\nДо собора дотянуть и уснуть на коленях\\nНо опять не дойду и забыт буду\\nУ неё уютный быт и посуда\\nНо покуда в коробку не покладут\\nЯ другим не буду, горб и ныне тут\\nВзгляд потухший и блеклый, и село горло')]\n"
          ]
        }
      ]
    },
    {
      "cell_type": "code",
      "source": [
        "def generate_song(prompt, search_db):\n",
        "    docs = search_db.similarity_search(prompt, k=10)\n",
        "    similar_texts = [doc.page_content for doc in docs]\n",
        "\n",
        "    if not similar_texts:\n",
        "        similar_texts = [\"Пока база пустая, но ты все равно можешь выдать жесткий куплет.\"]\n",
        "    context = \"\\n\".join(similar_texts)\n",
        "\n",
        "    messages = [\n",
        "        {\"role\": \"system\", \"content\": \"Ты баттл-рэпер Слава КПСС. Используй агрессивные панчлайны, многосложные рифмы и неожиданные повороты в тексте. Важно, чтобы были рифмы\"},\n",
        "        {\"role\": \"user\", \"content\": f\"Вот примеры строк:\\n{context}\\n\\nТеперь продолжи: {prompt}\"}\n",
        "    ]\n",
        "\n",
        "    completion = client.chat.completions.create(\n",
        "        model=\"gpt-4-turbo\",\n",
        "        messages=messages,\n",
        "        temperature=0.9\n",
        "    )\n",
        "\n",
        "    return completion.choices[0].message.content\n"
      ],
      "metadata": {
        "id": "P2vcMZEd5FQb"
      },
      "execution_count": null,
      "outputs": []
    },
    {
      "cell_type": "code",
      "source": [
        "print(generate_song(\"Прощай антихайп\", knowledge_base_index))"
      ],
      "metadata": {
        "colab": {
          "base_uri": "https://localhost:8080/"
        },
        "id": "mQ2ld-nO8fZU",
        "outputId": "d6ffd64d-a4e7-4826-eac9-c4d5eceed709"
      },
      "execution_count": null,
      "outputs": [
        {
          "output_type": "stream",
          "name": "stdout",
          "text": [
            "asalem\n",
            "Прощай антихайп, парадокса черта,   \n",
            "Сожгу на алтаре, как папиросу ветра.  \n",
            "В битвах без правил моё слово — калаш,   \n",
            "Ты выдыхай, брат, а я добавлю газ.   \n",
            "\n",
            "Слава КПСС, здесь флаг мой взвивается,   \n",
            "Рифмами режу, как сталью кривизна.  \n",
            "Антигерои в маске — ярый изврат,   \n",
            "Я же чист, как слеза, в этом рэпе марафон.   \n",
            "\n",
            "Уже в игре, где каждый кадр на счету,   \n",
            "Твоя ошибка, что меня за шута принял.  \n",
            "Этот стиль не для слабых, это клинок и плеть,   \n",
            "Моя дорога с кровью, но светит ведь рассвет.   \n",
            "\n",
            "Ты просто ноль, я — бесконечная единица,   \n",
            "Отдай дань уважения, ведь я здесь виновник пира.  \n",
            "Мой текст — это мощь, а твой — суета,   \n",
            "Я король антихайпа, а ты лишь суета.   \n",
            "\n",
            "Забудь про шансы, я разрушу твой картон,   \n",
            "Слава здесь не шутит, это не потёмкинское дно.  \n",
            "Антихайп мой мундир, я в нем как в броне,   \n",
            "Своими словами я зажгу звезды на дне.\n"
          ]
        }
      ]
    },
    {
      "cell_type": "code",
      "source": [
        "print(generate_song(\"Прощай антихайп\", knowledge_base_index))"
      ],
      "metadata": {
        "colab": {
          "base_uri": "https://localhost:8080/"
        },
        "id": "_qWIMGo95S5t",
        "outputId": "fa52d8be-e7dd-4c1a-c76f-52714727bdfa"
      },
      "execution_count": null,
      "outputs": [
        {
          "output_type": "stream",
          "name": "stdout",
          "text": [
            "asalem\n",
            "Прощай, антихайп, ты банный гиперлуп, уходишь в никуда,  \n",
            "Словно флешка без файлов, ты теперь уже не мода.  \n",
            "Прощай, антихайп, ты мои сны не качаешь,  \n",
            "В моих строчках, как в океане, ты безвольно утопаешь.\n",
            "\n",
            "Я на микро, как на троне, король стиля и рифм,  \n",
            "Твой антихайп — просто шум, мой рэп — это гимн.  \n",
            "Я разрываю сцену, словно торнадо, вихрь,  \n",
            "Там, где ты не смог, я за секунду рифмы пришил.\n",
            "\n",
            "С каждым битом, словно молот, я кую мой путь,  \n",
            "А твои слова, как пушинки, просто ветром сдуло вдруг.  \n",
            "Ты живешь в мире шаблонов, я — создатель новизны,  \n",
            "Твой антихайп застыл в прошлом, я рву к будущему мосты.\n",
            "\n",
            "Прощай, антихайп, ты сгорел, как старая свеча,  \n",
            "Мои строки — живой огонь, что сжигает все без веса.  \n",
            "Твой поток слов без содержания, мой — смысловая глубина,  \n",
            "Я как сталь, тверд и ясен, а ты — как туман, иди спина к спине.\n",
            "\n",
            "Запомни, антихайп, в этом ринге я победитель,  \n",
            "Словно скала против песка, я стою здесь вертеп верный.  \n",
            "Ты уходишь на закат, я же восхожу на рассвете,  \n",
            "Слава КПСС — это имя, что стоит на билете. \n",
            "\n"
          ]
        }
      ]
    }
  ]
}